{
 "cells": [
  {
   "cell_type": "code",
   "execution_count": 1,
   "metadata": {},
   "outputs": [],
   "source": [
    "import numpy as np\n",
    "import scipy.optimize\n",
    "import itertools"
   ]
  },
  {
   "cell_type": "code",
   "execution_count": 2,
   "metadata": {},
   "outputs": [],
   "source": [
    "# loading input data\n",
    "data = np.genfromtxt('./data/tt.csv', delimiter=',')\n",
    "y = data[:,0].reshape(-1,1)\n",
    "X = data[:, 1:]\n",
    "global m = len(y)"
   ]
  },
  {
   "cell_type": "code",
   "execution_count": 3,
   "metadata": {},
   "outputs": [],
   "source": [
    "# Some network architecture\n",
    "input_layer_size  = 784\n",
    "hidden_layer_size = 28\n",
    "num_labels = 26\n",
    "_lambda = 0\n",
    "theta1 = np.random.rand(hidden_layer_size,785) * 2 * 0.11 - 0.11 #dimension(hidden layer size, input layer size + 1)\n",
    "theta2 = np.random.rand(num_labels,hidden_layer_size + 1) * 2 * 0.11 - 0.11  #dimension(hiddent layer size + 1, labels)\n",
    "#theta1 shape: (28, 785)\n",
    "#theta2 shape: (26, 29)"
   ]
  },
  {
   "cell_type": "code",
   "execution_count": 17,
   "metadata": {},
   "outputs": [],
   "source": [
    "# source: https://github.com/kaleko/CourseraML/\n",
    "def flatten_params(thetas_list):\n",
    "    \"\"\"\n",
    "    Hand this function a list of theta matrices, and it will flatten it\n",
    "    into one long (n,1) shaped numpy array\n",
    "    \"\"\"\n",
    "    flattened_list = [ mytheta.flatten() for mytheta in thetas_list ]\n",
    "    combined = list(itertools.chain.from_iterable(flattened_list))\n",
    "    assert len(combined) == (input_layer_size+1)*hidden_layer_size + (hidden_layer_size+1)*num_labels\n",
    "    return np.array(combined).reshape((len(combined),1))\n",
    "\n",
    "def reshape_params(flattened_array):\n",
    "    theta1 = flattened_array[:(input_layer_size+1)*hidden_layer_size].reshape((hidden_layer_size,input_layer_size+1))\n",
    "    theta2 = flattened_array[(input_layer_size+1)*hidden_layer_size:].reshape((num_labels,hidden_layer_size+1))\n",
    "    return [ theta1, theta2 ]\n",
    "\n",
    "def flattenX(myX):\n",
    "    return np.array(myX.flatten()).reshape((m *(input_layer_size+1),1))\n",
    "\n",
    "def reshapeX(flattenedX):\n",
    "    return np.array(flattenedX).reshape((m,input_layer_size+1))"
   ]
  },
  {
   "cell_type": "code",
   "execution_count": 18,
   "metadata": {},
   "outputs": [],
   "source": [
    "#grad1: (28, 784)\n",
    "#grad2: (26, 28)\n",
    "def flatten_grads(grad_list):\n",
    "    flattened_list = [ my_grad.flatten() for my_grad in grad_list ]\n",
    "    combined = list(itertools.chain.from_iterable(flattened_list))\n",
    "    assert len(combined) == (input_layer_size)*hidden_layer_size + (hidden_layer_size)*num_labels\n",
    "    return np.array(combined).reshape((len(combined),1))\n",
    "\n",
    "def reshape_grads(flattened_array):\n",
    "    grad1 = flattened_array[:(input_layer_size)*hidden_layer_size].reshape((hidden_layer_size,input_layer_size))\n",
    "    grad2 = flattened_array[(input_layer_size)*hidden_layer_size:].reshape((num_labels,hidden_layer_size))\n",
    "    return [ grad1, grad2 ]"
   ]
  },
  {
   "cell_type": "code",
   "execution_count": 19,
   "metadata": {},
   "outputs": [
    {
     "name": "stdout",
     "output_type": "stream",
     "text": [
      "theta1: (28, 785), theta2: (26, 29)\n",
      "(22734, 1)\n"
     ]
    }
   ],
   "source": [
    "# Flatten thetas\n",
    "print(f'theta1: {np.shape(theta1)}, theta2: {np.shape(theta2)}')\n",
    "nn_params = flatten_params([theta1, theta2])\n",
    "print(np.shape(nn_params))"
   ]
  },
  {
   "cell_type": "code",
   "execution_count": 20,
   "metadata": {},
   "outputs": [
    {
     "name": "stdout",
     "output_type": "stream",
     "text": [
      "0.5\n",
      "0.25\n"
     ]
    }
   ],
   "source": [
    "def sigmoid(z):\n",
    "    return ( (1 / (1 + np.exp(-z))) )\n",
    "\n",
    "def sigmoid_gradient(z):\n",
    "    return (sigmoid(z) * (1 - sigmoid(z)))\n",
    "\n",
    "print(sigmoid(0.0)) #should return 0.5\n",
    "print(sigmoid_gradient(0.0)) # should return 0.25"
   ]
  },
  {
   "cell_type": "code",
   "execution_count": 21,
   "metadata": {},
   "outputs": [],
   "source": [
    "def feed_forward(theta1, theta2, X):\n",
    "    '''\n",
    "    a1 = (m, input_layer_size + 1), a2 = (m, hidden_layer_size + 1), a3= (m, num_labels)\n",
    "    theta1 = (hidden_layer_size, input_layer_size + 1)\n",
    "    theta2 = (num_labels, hidden_layer_size)\n",
    "    '''\n",
    "    m, _ = np.shape(X)\n",
    "    \n",
    "    # Input layer\n",
    "    a1 = np.c_[np.ones((m,1)), X] # assigning a1 to X, and adding a bias (m, input_layer_size + 1)\n",
    "    # Hidden layer\n",
    "    z2 = a1.dot(theta1.T)\n",
    "    a2 = sigmoid(z2)\n",
    "    a2 = np.c_[np.ones((np.shape(a2)[0], 1)), a2] # bias for hidden layer\n",
    "    # Output layer\n",
    "    z3 = a2.dot(theta2.T)\n",
    "    a3 = sigmoid(z3) #a3 = h(x)\n",
    "    return (a1, a2, a3, z2, z3)"
   ]
  },
  {
   "cell_type": "code",
   "execution_count": 22,
   "metadata": {},
   "outputs": [],
   "source": [
    "def compute_cost( nn_params, input_layer_size, hidden_layer_size, num_labels, X, y, lamda, yk = None):\n",
    "    theta1, theta2 = reshape_params(nn_params)     \n",
    "    a1,a2,a3,z2,z3 = feed_forward(theta1, theta2, X)\n",
    "    # (m, num_labels) matrix. all zeros, one '1' per row in the column corresponding to output label\n",
    "    if yk is None:\n",
    "        y_k = np.zeros((m,num_labels))\n",
    "        for i in range(0,m):\n",
    "            label_index = int(y[i])\n",
    "            y_k[i,label_index] = 1\n",
    "    \n",
    "    # J(theta) function: cross-entropy\n",
    "    term1 = (-y_k * np.log(a3))\n",
    "    term2 = (1 - y_k) * np.log(1 - a3)\n",
    "    cost = np.sum(term1 + term2)/m\n",
    "    # Regularization sum\n",
    "    reg_term = np.sum(theta1 ** 2) + np.sum(theta2[:,1:] ** 2)\n",
    "    reg_term = (_lambda/2/m) * reg_term\n",
    "    return(cost + reg_term)"
   ]
  },
  {
   "cell_type": "code",
   "execution_count": 23,
   "metadata": {},
   "outputs": [],
   "source": [
    "def compute_gradient(nn_params, input_layer_size, hidden_layer_size, num_labels, X, y, lamda, yk = None):\n",
    "    m, n = np.shape(X)\n",
    "    theta1, theta2 = reshape_params(nn_params)     \n",
    "    a1, a2, a3, z2, z3 = feed_forward(theta1, theta2, X)\n",
    "    \n",
    "    #back prop\n",
    "     # (m, num_labels) matrix. all zeros, one '1' per row in the column corresponding to output label\n",
    "    if yk is None:\n",
    "        y_k = np.zeros((m,num_labels))\n",
    "        for i in range(0,m):\n",
    "            label_index = int(y[i])\n",
    "            y_k[i,label_index] = 1\n",
    "            \n",
    "    delta_3 = a3 - y_k #(m, num_labels), theta2=(labels, hidden_label size)\n",
    "    delta_2 = (delta_3.dot(theta2))[:,1:] * sigmoid_gradient(z2) #ignore bias\n",
    "    sum_2 = delta_3.T.dot(a2) # sum of a_i * delta_i+1\n",
    "    sum_1 = delta_2.T.dot(a1)\n",
    "    \n",
    "    # putting the gradient equation together\n",
    "    theta_2_grad = (sum_2[:,1:] / m) + ((theta2[:,1:] * _lambda) / m)\n",
    "    theta_1_grad = (sum_1[:,1:] / m) + (theta1[:,1:] * _lambda / m)\n",
    "    \n",
    "    # Sizes\n",
    "    #grad1: (28, 784)\n",
    "    #grad2: (26, 28)\n",
    "    grad_flat = flatten_grads([theta_1_grad, theta_2_grad])\n",
    "    "
   ]
  },
  {
   "cell_type": "code",
   "execution_count": 24,
   "metadata": {},
   "outputs": [],
   "source": [
    "def nncost_function(nn_params, input_layer_size, hidden_layer_size, num_labels, X, y, _lambda):\n",
    "    # Reshape nn params and some initializations\n",
    "    m = len(y) #if shit breaks its this\n",
    "    theta1, theta2 = reshape_params(nn_params)     \n",
    "    J = 0\n",
    "    theta1_grad = np.zeros(np.shape(theta1))  # Used for gradient \n",
    "    theta2_grad = np.zeros(np.shape(theta2))  # Used for gradient \n",
    "    \n",
    "    # feed forward propogation\n",
    "    a1, a2, a3, z2, z3 = feed_forward(theta1, theta2, X)\n",
    "    \n",
    "    # Compute cost\n",
    "    # fill array of \n",
    "    y_k = np.zeros((m,num_labels))\n",
    "    for i in range(0,m):\n",
    "        label_index = int(y[i])\n",
    "        y_k[i,label_index] = 1\n",
    "    \n",
    "    # J(theta) function: cross-entropy\n",
    "    term1 = (-y_k * np.log(a3))\n",
    "    term2 = (1 - y_k) * np.log(1 - a3)\n",
    "    cost = np.sum(term1 + term2)/m\n",
    "    # Regularization sum\n",
    "    reg_term = np.sum(theta1 ** 2) + np.sum(theta2[:,1:] ** 2)\n",
    "    reg_term = (_lambda/2/m) * reg_term\n",
    "    J = cost + reg_term\n",
    "    \n",
    "    \n",
    "    # Back propogation\n",
    "    # delta_3: (m, num_labels), theta2: (num_labels, hidden_layer_size + 1(bias)) z2: (688, hidden_layer size)\n",
    "    # delta_2: (m, hidden_layer,size) a1 = (m, input_layer_size + 1) a2 = (m, hidden_layer_size + 1)\n",
    "    \n",
    "    delta_3 = a3 - y_k #(m, num_labels), theta2=(labels, hidden_label size)\n",
    "    delta_2 = (delta_3.dot(theta2))[:,1:] * sigmoid_gradient(z2) #ignore bias\n",
    "    sum_2 = delta_3.T.dot(a2) # sum of a_i * delta_i+1\n",
    "    sum_1 = delta_2.T.dot(a1)\n",
    "    \n",
    "    # putting the gradient equation together\n",
    "    # !!! try running with adding in J_0 bias term\n",
    "    theta_2_grad = (sum_2[:,1:] / m) + ((theta2[:,1:] * _lambda) / m)\n",
    "    theta_1_grad = (sum_1[:,1:] / m) + (theta1[:,1:] * _lambda / m)\n",
    "    \n",
    "    grad_flat = flatten_grads([theta_1_grad, theta_2_grad])\n",
    "    \n",
    "    return (J, grad_flat)\n",
    "    "
   ]
  },
  {
   "cell_type": "code",
   "execution_count": 25,
   "metadata": {},
   "outputs": [
    {
     "name": "stderr",
     "output_type": "stream",
     "text": [
      "<ipython-input-20-8d4ca501018e>:2: RuntimeWarning: overflow encountered in exp\n",
      "  return ( (1 / (1 + np.exp(-z))) )\n"
     ]
    }
   ],
   "source": [
    "J,grad = nncost_function(nn_params, input_layer_size, hidden_layer_size, num_labels, X, y, _lambda)"
   ]
  },
  {
   "cell_type": "code",
   "execution_count": 26,
   "metadata": {},
   "outputs": [],
   "source": [
    "def train(nn_params, input_layer_size, hidden_layer_size, num_labels, X, y, _lambda, ):\n",
    "    result = scipy.optimize.fmin_cg(compute_cost, x0=nn_params, fprime=compute_gradient,\n",
    "                               args=(flattenX(X),y,_lambda),maxiter=50,disp=True,full_output=True)\n",
    "    return reshapeParams(result[0])\n",
    "    "
   ]
  },
  {
   "cell_type": "code",
   "execution_count": 27,
   "metadata": {},
   "outputs": [
    {
     "ename": "ValueError",
     "evalue": "cannot reshape array of size 539392 into shape (540080,1)",
     "output_type": "error",
     "traceback": [
      "\u001b[0;31m---------------------------------------------------------------------------\u001b[0m",
      "\u001b[0;31mValueError\u001b[0m                                Traceback (most recent call last)",
      "\u001b[0;32m<ipython-input-27-8d95e213e4ff>\u001b[0m in \u001b[0;36m<module>\u001b[0;34m\u001b[0m\n\u001b[0;32m----> 1\u001b[0;31m \u001b[0mtrain\u001b[0m\u001b[0;34m(\u001b[0m\u001b[0mnn_params\u001b[0m\u001b[0;34m,\u001b[0m\u001b[0minput_layer_size\u001b[0m\u001b[0;34m,\u001b[0m \u001b[0mhidden_layer_size\u001b[0m\u001b[0;34m,\u001b[0m \u001b[0mnum_labels\u001b[0m\u001b[0;34m,\u001b[0m \u001b[0mX\u001b[0m\u001b[0;34m,\u001b[0m \u001b[0my\u001b[0m\u001b[0;34m,\u001b[0m \u001b[0m_lambda\u001b[0m\u001b[0;34m,\u001b[0m \u001b[0;34m)\u001b[0m\u001b[0;34m\u001b[0m\u001b[0;34m\u001b[0m\u001b[0m\n\u001b[0m",
      "\u001b[0;32m<ipython-input-26-e2b49690e9c9>\u001b[0m in \u001b[0;36mtrain\u001b[0;34m(nn_params, input_layer_size, hidden_layer_size, num_labels, X, y, _lambda)\u001b[0m\n\u001b[1;32m      1\u001b[0m \u001b[0;32mdef\u001b[0m \u001b[0mtrain\u001b[0m\u001b[0;34m(\u001b[0m\u001b[0mnn_params\u001b[0m\u001b[0;34m,\u001b[0m \u001b[0minput_layer_size\u001b[0m\u001b[0;34m,\u001b[0m \u001b[0mhidden_layer_size\u001b[0m\u001b[0;34m,\u001b[0m \u001b[0mnum_labels\u001b[0m\u001b[0;34m,\u001b[0m \u001b[0mX\u001b[0m\u001b[0;34m,\u001b[0m \u001b[0my\u001b[0m\u001b[0;34m,\u001b[0m \u001b[0m_lambda\u001b[0m\u001b[0;34m,\u001b[0m \u001b[0;34m)\u001b[0m\u001b[0;34m:\u001b[0m\u001b[0;34m\u001b[0m\u001b[0;34m\u001b[0m\u001b[0m\n\u001b[1;32m      2\u001b[0m     result = scipy.optimize.fmin_cg(compute_cost, x0=nn_params, fprime=compute_gradient,\n\u001b[0;32m----> 3\u001b[0;31m                                args=(flattenX(X),y,_lambda),maxiter=50,disp=True,full_output=True)\n\u001b[0m\u001b[1;32m      4\u001b[0m     \u001b[0;32mreturn\u001b[0m \u001b[0mreshapeParams\u001b[0m\u001b[0;34m(\u001b[0m\u001b[0mresult\u001b[0m\u001b[0;34m[\u001b[0m\u001b[0;36m0\u001b[0m\u001b[0;34m]\u001b[0m\u001b[0;34m)\u001b[0m\u001b[0;34m\u001b[0m\u001b[0;34m\u001b[0m\u001b[0m\n\u001b[1;32m      5\u001b[0m \u001b[0;34m\u001b[0m\u001b[0m\n",
      "\u001b[0;32m<ipython-input-17-d9bda43525ef>\u001b[0m in \u001b[0;36mflattenX\u001b[0;34m(myX)\u001b[0m\n\u001b[1;32m     16\u001b[0m \u001b[0;34m\u001b[0m\u001b[0m\n\u001b[1;32m     17\u001b[0m \u001b[0;32mdef\u001b[0m \u001b[0mflattenX\u001b[0m\u001b[0;34m(\u001b[0m\u001b[0mmyX\u001b[0m\u001b[0;34m)\u001b[0m\u001b[0;34m:\u001b[0m\u001b[0;34m\u001b[0m\u001b[0;34m\u001b[0m\u001b[0m\n\u001b[0;32m---> 18\u001b[0;31m     \u001b[0;32mreturn\u001b[0m \u001b[0mnp\u001b[0m\u001b[0;34m.\u001b[0m\u001b[0marray\u001b[0m\u001b[0;34m(\u001b[0m\u001b[0mmyX\u001b[0m\u001b[0;34m.\u001b[0m\u001b[0mflatten\u001b[0m\u001b[0;34m(\u001b[0m\u001b[0;34m)\u001b[0m\u001b[0;34m)\u001b[0m\u001b[0;34m.\u001b[0m\u001b[0mreshape\u001b[0m\u001b[0;34m(\u001b[0m\u001b[0;34m(\u001b[0m\u001b[0mm\u001b[0m \u001b[0;34m*\u001b[0m\u001b[0;34m(\u001b[0m\u001b[0minput_layer_size\u001b[0m\u001b[0;34m+\u001b[0m\u001b[0;36m1\u001b[0m\u001b[0;34m)\u001b[0m\u001b[0;34m,\u001b[0m\u001b[0;36m1\u001b[0m\u001b[0;34m)\u001b[0m\u001b[0;34m)\u001b[0m\u001b[0;34m\u001b[0m\u001b[0;34m\u001b[0m\u001b[0m\n\u001b[0m\u001b[1;32m     19\u001b[0m \u001b[0;34m\u001b[0m\u001b[0m\n\u001b[1;32m     20\u001b[0m \u001b[0;32mdef\u001b[0m \u001b[0mreshapeX\u001b[0m\u001b[0;34m(\u001b[0m\u001b[0mflattenedX\u001b[0m\u001b[0;34m)\u001b[0m\u001b[0;34m:\u001b[0m\u001b[0;34m\u001b[0m\u001b[0;34m\u001b[0m\u001b[0m\n",
      "\u001b[0;31mValueError\u001b[0m: cannot reshape array of size 539392 into shape (540080,1)"
     ]
    }
   ],
   "source": [
    "train(nn_params,input_layer_size, hidden_layer_size, num_labels, X, y, _lambda, )"
   ]
  },
  {
   "cell_type": "code",
   "execution_count": null,
   "metadata": {},
   "outputs": [],
   "source": []
  },
  {
   "cell_type": "code",
   "execution_count": null,
   "metadata": {},
   "outputs": [],
   "source": []
  }
 ],
 "metadata": {
  "kernelspec": {
   "display_name": "Python 3",
   "language": "python",
   "name": "python3"
  },
  "language_info": {
   "codemirror_mode": {
    "name": "ipython",
    "version": 3
   },
   "file_extension": ".py",
   "mimetype": "text/x-python",
   "name": "python",
   "nbconvert_exporter": "python",
   "pygments_lexer": "ipython3",
   "version": "3.8.5"
  }
 },
 "nbformat": 4,
 "nbformat_minor": 4
}
