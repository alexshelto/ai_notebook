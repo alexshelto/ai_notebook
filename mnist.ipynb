{
 "cells": [
  {
   "cell_type": "code",
   "execution_count": 1,
   "metadata": {},
   "outputs": [],
   "source": [
    "import numpy as np\n",
    "from scipy import optimize\n",
    "import itertools"
   ]
  },
  {
   "cell_type": "code",
   "execution_count": 2,
   "metadata": {},
   "outputs": [],
   "source": [
    "# loading input data\n",
    "data = np.genfromtxt('./data/tt.csv', delimiter=',')\n",
    "y = data[:,0].reshape(-1,1)\n",
    "X = data[:, 1:]\n",
    "m = len(y)"
   ]
  },
  {
   "cell_type": "code",
   "execution_count": 3,
   "metadata": {},
   "outputs": [
    {
     "name": "stdout",
     "output_type": "stream",
     "text": [
      "theta1 shape: (28, 785)\n",
      "theta2 shape: (29, 26)\n",
      "0.023790735353925355\n",
      "0.06463151983810521\n",
      "\n",
      "0.0863737074876753\n",
      "0.08689790017271852\n",
      "0.06631892071039948\n",
      "-0.053621873437138534\n"
     ]
    }
   ],
   "source": [
    "# Some network architecture\n",
    "input_layer_size  = 784\n",
    "hidden_layer_size = 28\n",
    "num_labels = 26\n",
    "_lambda = 0\n",
    "theta1 = np.random.rand(hidden_layer_size,785) * 2 * 0.11 - 0.11 #dimension(hidden layer size, input layer size + 1)\n",
    "theta2 = np.random.rand(hidden_layer_size + 1,num_labels) * 2 * 0.11 - 0.11  #dimension(hiddent layer size + 1, labels)\n",
    "\n",
    "print(f'theta1 shape: {np.shape(theta1)}')\n",
    "print(f'theta2 shape: {np.shape(theta2)}')\n",
    "\n",
    "\n",
    "print(theta2[10,10])\n",
    "print(theta2[20,6],end='\\n\\n')\n",
    "\n",
    "print(theta1[10,10])\n",
    "print(theta1[20,6])\n",
    "print(theta1[13,3])\n",
    "print(theta1[0,0])\n"
   ]
  },
  {
   "cell_type": "code",
   "execution_count": 4,
   "metadata": {},
   "outputs": [],
   "source": [
    "# source: https://github.com/kaleko/CourseraML/\n",
    "def flatten_params(thetas_list):\n",
    "    \"\"\"\n",
    "    Hand this function a list of theta matrices, and it will flatten it\n",
    "    into one long (n,1) shaped numpy array\n",
    "    \"\"\"\n",
    "    flattened_list = [ mytheta.flatten() for mytheta in thetas_list ]\n",
    "    combined = list(itertools.chain.from_iterable(flattened_list))\n",
    "    assert len(combined) == (input_layer_size+1)*hidden_layer_size + (hidden_layer_size+1)*num_labels\n",
    "    return np.array(combined).reshape((len(combined),1))\n",
    "\n",
    "def reshape_params(flattened_array):\n",
    "    theta1 = flattened_array[:(input_layer_size+1)*hidden_layer_size].reshape((hidden_layer_size,input_layer_size+1))\n",
    "    theta2 = flattened_array[(input_layer_size+1)*hidden_layer_size:].reshape((hidden_layer_size+1, num_labels))\n",
    "    return [ theta1, theta2 ]\n",
    "\n",
    "def flattenX(myX):\n",
    "    return np.array(myX.flatten()).reshape((n_training_samples*(input_layer_size+1),1))\n",
    "\n",
    "def reshapeX(flattenedX):\n",
    "    return np.array(flattenedX).reshape((n_training_samples,input_layer_size+1))"
   ]
  },
  {
   "cell_type": "code",
   "execution_count": 5,
   "metadata": {},
   "outputs": [
    {
     "name": "stdout",
     "output_type": "stream",
     "text": [
      "(22734, 1)\n"
     ]
    }
   ],
   "source": [
    "# Flatten thetas\n",
    "nn_params = flatten_params([theta1, theta2])\n",
    "print(np.shape(nn_params))"
   ]
  },
  {
   "cell_type": "code",
   "execution_count": 6,
   "metadata": {},
   "outputs": [],
   "source": [
    "def cost_function(nn_params, input_layer_size, hidden_layer_size, num_labels, X, y, _lambda):\n",
    "    # Reshape nn params back into size\n",
    "    theta1, theta2 = reshape_params(nn_params)\n",
    "    print(np.shape(theta1))\n",
    "    print(np.shape(theta2))\n",
    "    \n",
    "    print(theta2[10,10])\n",
    "    print(theta2[20,6],end='\\n\\n')\n",
    "    \n",
    "    print(theta1[10,10])\n",
    "    print(theta1[20,6])\n",
    "    print(theta1[13,3])\n",
    "    print(theta1[0,0])\n",
    "    # forward propogation"
   ]
  },
  {
   "cell_type": "code",
   "execution_count": 7,
   "metadata": {},
   "outputs": [
    {
     "name": "stdout",
     "output_type": "stream",
     "text": [
      "(28, 785)\n",
      "(29, 26)\n",
      "0.023790735353925355\n",
      "0.06463151983810521\n",
      "\n",
      "0.0863737074876753\n",
      "0.08689790017271852\n",
      "0.06631892071039948\n",
      "-0.053621873437138534\n"
     ]
    }
   ],
   "source": [
    "J = cost_function(nn_params, input_layer_size, hidden_layer_size, num_labels, X, y, _lambda)"
   ]
  },
  {
   "cell_type": "code",
   "execution_count": null,
   "metadata": {},
   "outputs": [],
   "source": [
    "\n"
   ]
  },
  {
   "cell_type": "code",
   "execution_count": null,
   "metadata": {},
   "outputs": [],
   "source": []
  }
 ],
 "metadata": {
  "kernelspec": {
   "display_name": "Python 3",
   "language": "python",
   "name": "python3"
  },
  "language_info": {
   "codemirror_mode": {
    "name": "ipython",
    "version": 3
   },
   "file_extension": ".py",
   "mimetype": "text/x-python",
   "name": "python",
   "nbconvert_exporter": "python",
   "pygments_lexer": "ipython3",
   "version": "3.8.5"
  }
 },
 "nbformat": 4,
 "nbformat_minor": 4
}
