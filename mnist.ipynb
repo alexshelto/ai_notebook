{
 "cells": [
  {
   "cell_type": "code",
   "execution_count": 1,
   "metadata": {},
   "outputs": [],
   "source": [
    "import numpy as np\n",
    "from scipy import optimize\n",
    "import itertools"
   ]
  },
  {
   "cell_type": "code",
   "execution_count": 2,
   "metadata": {},
   "outputs": [],
   "source": [
    "# loading input data\n",
    "data = np.genfromtxt('./data/tt.csv', delimiter=',')\n",
    "y = data[:,0].reshape(-1,1)\n",
    "X = data[:, 1:]\n",
    "m = len(y)"
   ]
  },
  {
   "cell_type": "code",
   "execution_count": 3,
   "metadata": {},
   "outputs": [
    {
     "name": "stdout",
     "output_type": "stream",
     "text": [
      "-0.048337698564858984\n",
      "-0.08263754254905406\n",
      "0.009939149313306292\n"
     ]
    }
   ],
   "source": [
    "# Some network architecture\n",
    "input_layer_size  = 784\n",
    "hidden_layer_size = 28\n",
    "num_labels = 26\n",
    "_lambda = 0\n",
    "theta1 = np.random.rand(hidden_layer_size,785) * 2 * 0.11 - 0.11 #dimension(hidden layer size, input layer size + 1)\n",
    "theta2 = np.random.rand(num_labels,hidden_layer_size + 1) * 2 * 0.11 - 0.11  #dimension(hiddent layer size + 1, labels)\n",
    "#theta1 shape: (28, 785)\n",
    "#theta2 shape: (26, 29)"
   ]
  },
  {
   "cell_type": "code",
   "execution_count": 4,
   "metadata": {},
   "outputs": [],
   "source": [
    "# source: https://github.com/kaleko/CourseraML/\n",
    "def flatten_params(thetas_list):\n",
    "    \"\"\"\n",
    "    Hand this function a list of theta matrices, and it will flatten it\n",
    "    into one long (n,1) shaped numpy array\n",
    "    \"\"\"\n",
    "    flattened_list = [ mytheta.flatten() for mytheta in thetas_list ]\n",
    "    combined = list(itertools.chain.from_iterable(flattened_list))\n",
    "    assert len(combined) == (input_layer_size+1)*hidden_layer_size + (hidden_layer_size+1)*num_labels\n",
    "    return np.array(combined).reshape((len(combined),1))\n",
    "\n",
    "def reshape_params(flattened_array):\n",
    "    theta1 = flattened_array[:(input_layer_size+1)*hidden_layer_size].reshape((hidden_layer_size,input_layer_size+1))\n",
    "    theta2 = flattened_array[(input_layer_size+1)*hidden_layer_size:].reshape((num_labels,hidden_layer_size+1))\n",
    "    return [ theta1, theta2 ]\n",
    "\n",
    "def flattenX(myX):\n",
    "    return np.array(myX.flatten()).reshape((n_training_samples*(input_layer_size+1),1))\n",
    "\n",
    "def reshapeX(flattenedX):\n",
    "    return np.array(flattenedX).reshape((n_training_samples,input_layer_size+1))"
   ]
  },
  {
   "cell_type": "code",
   "execution_count": 5,
   "metadata": {},
   "outputs": [
    {
     "name": "stdout",
     "output_type": "stream",
     "text": [
      "theta1: (28, 785), theta2: (26, 29)\n",
      "(22734, 1)\n"
     ]
    }
   ],
   "source": [
    "# Flatten thetas\n",
    "print(f'theta1: {np.shape(theta1)}, theta2: {np.shape(theta2)}')\n",
    "nn_params = flatten_params([theta1, theta2])\n",
    "print(np.shape(nn_params))"
   ]
  },
  {
   "cell_type": "code",
   "execution_count": 42,
   "metadata": {},
   "outputs": [
    {
     "data": {
      "text/plain": [
       "0.5"
      ]
     },
     "execution_count": 42,
     "metadata": {},
     "output_type": "execute_result"
    }
   ],
   "source": [
    "def sigmoid(z):\n",
    "    return ( (1 / (1 + np.exp(-z))) )\n",
    "\n",
    "def sigmoid_gradient(z):\n",
    "    return (sigmoid(z) * (1 - sigmoid(z)))\n",
    "\n",
    "sigmoid(0.0) #should return 0.5"
   ]
  },
  {
   "cell_type": "code",
   "execution_count": 72,
   "metadata": {},
   "outputs": [],
   "source": [
    "def cost_function(nn_params, input_layer_size, hidden_layer_size, num_labels, X, y, _lambda):\n",
    "    # Reshape nn params and some initializations\n",
    "    theta1, theta2 = reshape_params(nn_params)     \n",
    "    J = 0\n",
    "    theta1_grad = np.zeros(np.shape(theta1))  # Used for gradient \n",
    "    theta2_grad = np.zeros(np.shape(theta2))  # Used for gradient \n",
    "    \n",
    "    # feed forward propogation\n",
    "    '''\n",
    "    a1 = (m, input_layer_size + 1), a2 = (m, hidden_layer_size + 1), a3= (m, num_labels)\n",
    "    theta1 = (hidden_layer_size, input_layer_size + 1)\n",
    "    theta2 = (num_labels, hidden_layer_size)\n",
    "    '''\n",
    "    # Input layer\n",
    "    a1 = np.c_[np.ones((m,1)), X] # assigning a1 to X, and adding a bias (m, input_layer_size + 1)\n",
    "    # Hidden layer\n",
    "    z2 = a1.dot(theta1.T)\n",
    "    a2 = sigmoid(z2)\n",
    "    a2 = np.c_[np.ones((np.shape(a2)[0], 1)), a2] # bias for hidden layer\n",
    "    # Output layer\n",
    "    z3 = a2.dot(theta2.T)\n",
    "    a3 = sigmoid(z3) #a3 = h(x)\n",
    "    \n",
    "    # Compute cost\n",
    "    # fill array of \n",
    "    y_k = np.zeros((m,num_labels))\n",
    "    for i in range(0,m):\n",
    "        label_index = int(y[i])\n",
    "        y_k[i,label_index] = 1\n",
    "    \n",
    "    # J(theta) function: cross-entropy\n",
    "    term1 = (-y_k * np.log(a3))\n",
    "    term2 = (1 - y_k) * np.log(1 - a3)\n",
    "    cost = np.sum(term1 + term2)/m\n",
    "    # Regularization sum\n",
    "    reg_term = np.sum(theta1 ** 2) + np.sum(theta2[:,1:] ** 2)\n",
    "    reg_term = (_lambda/2/m) * reg_term\n",
    "    J = cost + reg_term\n",
    "    \n",
    "    \n",
    "    # Back propogation\n",
    "    # delta_3: (m, num_labels), theta2: (num_labels, hidden_layer_size + 1(bias)) z2: (688, hidden_layer size)\n",
    "    # delta_2: (m, hidden_layer,size) a1 = (m, input_layer_size + 1) a2 = (m, hidden_layer_size + 1)\n",
    "    \n",
    "    delta_3 = a3 - y_k #(m, num_labels), theta2=(labels, hidden_label size)\n",
    "    delta_2 = (delta_3.dot(theta2))[:,1:] * sigmoid_gradient(z2) #ignore bias\n",
    "    sum_3 = delta_3.T.dot(a2) # sum of a_i * delta_i+1\n",
    "    sum_2 = delta_2.T.dot(a1)\n",
    "    # putting the gradient equation together\n",
    "    Delta_3 = (1/m)*sum_3*(_lambda * theta2 )\n",
    "    "
   ]
  },
  {
   "cell_type": "code",
   "execution_count": 73,
   "metadata": {},
   "outputs": [
    {
     "name": "stdout",
     "output_type": "stream",
     "text": [
      "size delta2: (688, 28)\n"
     ]
    }
   ],
   "source": [
    "J = cost_function(nn_params, input_layer_size, hidden_layer_size, num_labels, X, y, _lambda)"
   ]
  },
  {
   "cell_type": "code",
   "execution_count": null,
   "metadata": {},
   "outputs": [],
   "source": [
    "\n"
   ]
  },
  {
   "cell_type": "code",
   "execution_count": null,
   "metadata": {},
   "outputs": [],
   "source": []
  }
 ],
 "metadata": {
  "kernelspec": {
   "display_name": "Python 3",
   "language": "python",
   "name": "python3"
  },
  "language_info": {
   "codemirror_mode": {
    "name": "ipython",
    "version": 3
   },
   "file_extension": ".py",
   "mimetype": "text/x-python",
   "name": "python",
   "nbconvert_exporter": "python",
   "pygments_lexer": "ipython3",
   "version": "3.8.5"
  }
 },
 "nbformat": 4,
 "nbformat_minor": 4
}
