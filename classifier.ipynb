{
 "cells": [
  {
   "cell_type": "code",
   "execution_count": 12,
   "metadata": {},
   "outputs": [],
   "source": [
    "import numpy as np\n",
    "from scipy import optimize, special\n",
    "import itertools\n",
    "from tqdm import trange\n",
    "from scipy.special import expit\n",
    "import matplotlib.pyplot as plt\n",
    "\n",
    "import pandas as pd\n",
    "\n",
    "\n",
    "# Format might be wrong! X_train.reshape(X_train.shape[0], 1, 28, 28)"
   ]
  },
  {
   "cell_type": "markdown",
   "metadata": {},
   "source": [
    "## Initialize weights for theta values"
   ]
  },
  {
   "cell_type": "code",
   "execution_count": 152,
   "metadata": {},
   "outputs": [],
   "source": [
    "# def rand_initialize_weights(layer_in, layer_out):\n",
    "#     # gaussian is strong\n",
    "#     # uniform is stronger\n",
    "#     ret = np.random.uniform(-1., 1., size=(layer_out,layer_in))/np.sqrt(layer_out * layer_in)\n",
    "#     return ret.astype(np.float32)\n",
    "\n",
    "\n",
    "def rand_initialize_weights(layer_in, layer_out):\n",
    "    # gaussian is strong\n",
    "    # uniform is stronger\n",
    "    ret = np.random.uniform(-1., 1., size=(layer_out,layer_in + 1))/np.sqrt(layer_out * layer_in)\n",
    "    return ret.astype(np.float32)"
   ]
  },
  {
   "cell_type": "code",
   "execution_count": 153,
   "metadata": {},
   "outputs": [
    {
     "name": "stdout",
     "output_type": "stream",
     "text": [
      "(688, 784)\n",
      "examples: 688\n"
     ]
    }
   ],
   "source": [
    "# Load data\n",
    "# train_data = np.genfromtxt('./data/sign_mnist_train.csv', delimiter=',')\n",
    "# test_data = np.genfromtxt('./data/sign_mnist_test.csv', delimiter=',')\n",
    "train_data = np.genfromtxt('./data/tt.csv', delimiter=',')\n",
    "y = train_data[:,0].reshape(-1,1)  # Shape: (m,1)\n",
    "X = train_data[:, 1:] / 255        # Shape: (m, input_layer_size)\n",
    "# X = X.reshape(-11, 28, 28)\n",
    "print(np.shape(X))\n",
    "\n",
    "\n",
    "m = len(y)\n",
    "print(f'examples: {m}')\n",
    "\n",
    "#(688, 1, 28, 28)\n"
   ]
  },
  {
   "cell_type": "code",
   "execution_count": 154,
   "metadata": {},
   "outputs": [
    {
     "name": "stdout",
     "output_type": "stream",
     "text": [
      "theta1 shape: (150, 785), theta2 shape: (26, 151)\n"
     ]
    },
    {
     "data": {
      "text/plain": [
       "<matplotlib.image.AxesImage at 0x7f8873302340>"
      ]
     },
     "execution_count": 154,
     "metadata": {},
     "output_type": "execute_result"
    },
    {
     "data": {
      "image/png": "[encoded data removed]",
      "text/plain": [
       "<Figure size 432x288 with 1 Axes>"
      ]
     },
     "metadata": {
      "needs_background": "light"
     },
     "output_type": "display_data"
    }
   ],
   "source": [
    "input_layer_size = 784\n",
    "hidden_layer_size = 150      # hidden layer has 120 nodes excluding bias \n",
    "num_labels = 26              # 26 total output values: a=0, b=1, ... , z=25\n",
    "\n",
    "\n",
    "np.random.seed(1999)\n",
    "theta1 = rand_initialize_weights(input_layer_size, hidden_layer_size)\n",
    "theta2 = rand_initialize_weights(hidden_layer_size, num_labels)\n",
    "\n",
    "print(f'theta1 shape: {np.shape(theta1)}, theta2 shape: {np.shape(theta2)}')\n",
    "\n",
    "# supposed to be: : theta1 shape (120, 785), theta2 shape: (26, 121)\n",
    "plt.imshow(X[3].reshape(28,28))"
   ]
  },
  {
   "cell_type": "markdown",
   "metadata": {},
   "source": [
    "## Sigmoid function and derivative\n",
    "* Used for activation function in forward propogation\n",
    "* Derivative used for back propogation"
   ]
  },
  {
   "cell_type": "code",
   "execution_count": 155,
   "metadata": {},
   "outputs": [
    {
     "name": "stdout",
     "output_type": "stream",
     "text": [
      "0.5\n",
      "0.25\n"
     ]
    }
   ],
   "source": [
    "def sigmoid(z):\n",
    "   # return (1 / (1 + np.exp(-z)))\n",
    "    s = expit(z)\n",
    "    return s\n",
    "\n",
    "def dx_sigmoid(z):\n",
    "    res = sigmoid(z)\n",
    "    return (res * (1 - res))\n",
    "\n",
    "print(sigmoid(0))\n",
    "print(dx_sigmoid(0))"
   ]
  },
  {
   "cell_type": "code",
   "execution_count": 156,
   "metadata": {},
   "outputs": [],
   "source": [
    "# def return_labeled(y, num_labels):\n",
    "#     '''returns (m,num_labels) matrix where each column corresoponds to an example\n",
    "#     all indexes are 0, each column contains a single 1, the row corresponding to the answer'''\n",
    "#     m = np.size(y)\n",
    "#     out = np.zeros((num_labels, m), np.float32)\n",
    "#     for i in range(0, m):\n",
    "#         label = int(y[i])\n",
    "#         out[label, i] = 1\n",
    "#     return out\n",
    "\n",
    "\n",
    "def return_labeled(y, num_labels):\n",
    "    '''returns (m,num_labels) matrix where each column corresoponds to an example\n",
    "    all indexes are 0, each column contains a single 1, the row corresponding to the answer'''\n",
    "    m = np.size(y)\n",
    "    out = np.zeros((m, num_labels), np.float32)\n",
    "    for row in range(0, m):\n",
    "        label = int(y[row])\n",
    "        out[row, label] = 1\n",
    "    return out"
   ]
  },
  {
   "cell_type": "code",
   "execution_count": 157,
   "metadata": {},
   "outputs": [],
   "source": [
    "# def forward_backward(X,y):\n",
    "#     print(f'X shape: {np.shape(X)}')\n",
    "#     m = len(y)\n",
    "#     # Forward propogation\n",
    "# #     ones = np.ones((m,1))\n",
    "# #     a1 = np.hstack((ones,X)) # m, input_layer + 1\n",
    "# #     z2 = theta1.dot(a1.T) \n",
    "# #     a2 = np.c_[np.ones((X.shape[0],1)),sigmoid(z2.T)] \n",
    "# #     z3 = theta2.dot(a2.T) # 10x26 * 26x5000 = 26xm \n",
    "# #     a3 = sigmoid(z3)\n",
    "#     a1 = np.c_[np.ones((m,1)), X]   # layer 1 : adding a bias column of 1's to X. (m, input_size + 1)\n",
    "#     z2 = a1.dot(theta1.T)           # layer 2 matrix calculation\n",
    "#     a2 = sigmoid(z2)                # activation of layer 2: shape(m, hidden_layer_size)\n",
    "#     a2 = np.c_[np.ones((m, 1)), a2] # adding a bias column of 1's : shape(m, hidden_layer_size + 1)\n",
    "#     z3 = a2.dot(theta2.T)           # layer3 || output layer calculation\n",
    "#     a3 = sigmoid(z3)                # activation of output layer: size = (m, num_labels)\n",
    "    \n",
    "#     #Cost function\n",
    "# #     inner_term0 = (-y_k * np.log(a3))\n",
    "# #     inner_term1 = (1 - y_k) * np.log(1 - a3)\n",
    "# #     left_side = np.sum(inner_term0 - inner_term1) / m\n",
    "# #     right_side = np.sum(theta1[:, 1:] ** 2) + np.sum(theta2[:,1:] ** 2) # sum of all theta vals squred excluding theta index0 \n",
    "# #     right_side = (lam / 2 / m) * right_side\n",
    "# #     J = left_side + right_side\n",
    "#     cost = -1*(1/m)*np.sum((np.log(a3.T)*(y_k)+np.log(1-a3).T*(1-y_k)))+(lam/(2*m))*(np.sum(np.square(theta1[:,1:])) + np.sum(np.square(theta2[:,1:])))\n",
    "        \n",
    "\n",
    "                           \n",
    "#     # Back propogation\n",
    "# #     delta3 = a3 - y_k\n",
    "# #     delta2 = delta3.dot(theta2)[:,1:] * dx_sigmoid(z2) # excluding bias\n",
    "# #     Gradient1 = (delta2.T).dot(a1)\n",
    "# #     Gradient2 = (delta3.T).dot(a2)\n",
    "\n",
    "#     d3 = a3.T - y_k # 5000x10\n",
    "#     d2 = theta2[:,1:].T.dot(d3.T)*dx_sigmoid(z2) # 25x10 *10x5000 * 25x5000 = 25x5000\n",
    "    \n",
    "#     delta1 = d2.dot(a1) # 25x5000 * 5000x401 = 25x401\n",
    "#     delta2 = d3.T.dot(a2) # 10x5000 *5000x26 = 10x26\n",
    "    \n",
    "#     Theta1_ = np.c_[np.ones((theta1.shape[0],1)),theta1[:,1:]]\n",
    "#     Theta2_ = np.c_[np.ones((theta2.shape[0],1)),theta2[:,1:]]\n",
    "    \n",
    "#     Gradient1 = delta1/m + (Theta1_*lam)/m\n",
    "#     Gradient2 = delta2/m + (Theta2_*lam)/m\n",
    "    \n",
    "# #     print(f'Gradient 1: {Gradient1}')\n",
    "# #     print(f'Gradient 2: {Gradient2}')\n",
    "\n",
    "#     return a1, a2, a3, cost, Gradient1, Gradient2"
   ]
  },
  {
   "cell_type": "code",
   "execution_count": 243,
   "metadata": {},
   "outputs": [],
   "source": [
    "# If this is still hitting the fan remove bias'\n",
    "\n",
    "def forward_backward(theta1, theta2, X, y):\n",
    "    labels = return_labeled(y, num_labels)\n",
    "    m = len(y)\n",
    "    # Feed forward propogation\n",
    "    a1 = np.c_[np.ones((m,1)), X]   # layer 1 : adding a bias column of 1's to X. (m, input_size + 1)\n",
    "    z2 = a1.dot(theta1.T)           # layer 2 matrix calculation\n",
    "    a2 = sigmoid(z2)                # activation of layer 2: shape(m, hidden_layer_size)\n",
    "    a2 = np.c_[np.ones((m, 1)), a2] # adding a bias column of 1's : shape(m, hidden_layer_size + 1)\n",
    "    z3 = a2.dot(theta2.T)           # layer3 || output layer calculation\n",
    "    a3 = sigmoid(z3)                # shape(m, num_labels)\n",
    "    \n",
    "    # Calculating cost (MSE)\n",
    "    cost = ((1 / 2) * (np.power((a3 - labels), 2)))\n",
    "    print(cost.sum())\n",
    "    \n",
    "    ################################################\n",
    "    zh = z2\n",
    "    ah = a2\n",
    "    ao = a3\n",
    "    zo = z3\n",
    "    wo = theta1\n",
    "    wo = theta2\n",
    "    \n",
    "    dcost_dao = ao - labels\n",
    "    dao_dzo = dx_sigmoid(zo) \n",
    "    dzo_dwo = ah\n",
    "\n",
    "    dcost_wo = np.dot(dzo_dwo.T, dcost_dao * dao_dzo)\n",
    "\n",
    "    # Phase 2 =======================\n",
    "\n",
    "    # dcost_w1 = dcost_dah * dah_dzh * dzh_dw1\n",
    "    # dcost_dah = dcost_dzo * dzo_dah\n",
    "    dcost_dzo = dcost_dao * dao_dzo\n",
    "    dzo_dah = wo\n",
    "    dcost_dah = np.dot(dcost_dzo , dzo_dah)\n",
    "    dah_dzh = dx_sigmoid(zh) \n",
    "    dzh_dwh = X\n",
    "\n",
    "    # dzh_dwh & dah_dzh : (hidden layer size, input layer size)\n",
    "    dcost_wh = dzh_dwh.T.dot( (dah_dzh * dcost_dah[:,1:]) )\n",
    "#     # Back propogation loss\n",
    "#     d3 = a3 - labels                    #dcost_dao\n",
    "#     d3_dx = dx_sigmoid(a3)              #dao_dzo\n",
    "#     dcost_wo = a2.T.dot(d3 * d3_dx)       #dcost_wo\n",
    "#     # Back propogation gradients \n",
    "#     d2_cost = d3 * d3_dx                #dcost_dzo\n",
    "#     # wo=theta2\n",
    "#     dcost_dah = d2_cost.dot(theta2)\n",
    "#     dah_dzh = dx_sigmoid(a2)\n",
    "#     dcost_wh = labels.T.dot(dah_dzh * dcost_dah)\n",
    "    \n",
    "    return cost, dcost_wh.T, dcost_wo.T\n",
    "    \n"
   ]
  },
  {
   "cell_type": "code",
   "execution_count": 244,
   "metadata": {},
   "outputs": [
    {
     "name": "stderr",
     "output_type": "stream",
     "text": [
      "loss 4.37 accuracy 0.07: 100%|██████████| 1/1 [00:00<00:00, 194.66it/s]"
     ]
    },
    {
     "name": "stdout",
     "output_type": "stream",
     "text": [
      "391.53654516917425\n",
      "grad1: (150, 784)\n",
      "grad2: (26, 151)\n"
     ]
    },
    {
     "name": "stderr",
     "output_type": "stream",
     "text": [
      "\n"
     ]
    }
   ],
   "source": [
    "\n",
    "learning_rate = 0.0001\n",
    "batch_size = 120\n",
    "lam = 3 # Lambda used for regularization in cost function\n",
    "\n",
    "\n",
    "# reinitialize thetas\n",
    "theta1 = rand_initialize_weights(input_layer_size, hidden_layer_size)\n",
    "theta2 = rand_initialize_weights(hidden_layer_size, num_labels)\n",
    "\n",
    "losses, accuracies = [], []\n",
    "\n",
    "# # Model training\n",
    "epochs = 1000\n",
    "mmm = 0\n",
    "for i in (t := trange(epochs)):\n",
    "    samp = np.random.randint(0, X.shape[0], size=(batch_size))\n",
    "    X_train = X[samp]\n",
    "    y_train = y[samp]\n",
    "    \n",
    "    cost, Gradient1, Gradient2 = forward_backward(theta1, theta2, X_train, y_train)\n",
    "    \n",
    "    print(f'grad1: {np.shape(Gradient1)}')\n",
    "    print(f'grad2: {np.shape(Gradient2)}')\n",
    "\n",
    "    \n",
    "    theta1 = theta1[:,1:] - (learning_rate * Gradient1)\n",
    "    theta2 = theta2 - (learning_rate * Gradient2)\n",
    "    \n",
    "    prediction = np.argmax(h_x, axis=1)\n",
    "    \n",
    "    loss = J.mean()\n",
    "    losses.append(loss)\n",
    "\n",
    "    accuracies.append(accuracy)\n",
    "    t.set_description(\"loss %.2f accuracy %.2f\" % (loss, accuracy))\n",
    "\n",
    "    \n",
    "    "
   ]
  },
  {
   "cell_type": "code",
   "execution_count": 235,
   "metadata": {},
   "outputs": [],
   "source": [
    "# # # Model training\n",
    "# epochs = 1000\n",
    "# mmm = 0\n",
    "# for i in (t := trange(epochs)):\n",
    "#     samp = np.random.randint(0, X.shape[0], size=(batch_size))\n",
    "#     X_train = X[samp]\n",
    "#     y_train = y[samp]\n",
    "    \n",
    "#     for example in range(0, batch_size):\n",
    "        \n",
    "#         a1, a2, h_x, J, grad1, grad2 = forward_backward(theta1, theta2,X_train[example], y_train[example])\n",
    "    \n",
    "#         prediction = np.argmax(h_x, axis=1)\n",
    "    \n",
    "#         accuracy = (prediction == y_train).mean()\n",
    "#         if (accuracy > mmm):\n",
    "#             mmm = accuracy\n",
    "    \n",
    "#         theta1 -= (learning_rate * (grad1))\n",
    "#         theta2 -= (learning_rate * (grad2))\n",
    "    \n",
    "#         loss = J.mean()\n",
    "#         losses.append(loss)\n",
    "    \n",
    "#         accuracies.append(accuracy)\n",
    "#     t.set_description(\"loss %.2f accuracy %.2f\" % (loss, accuracy))\n",
    "\n",
    "# print(f'max accuracy: {mmm}')"
   ]
  },
  {
   "cell_type": "code",
   "execution_count": null,
   "metadata": {},
   "outputs": [],
   "source": []
  },
  {
   "cell_type": "code",
   "execution_count": null,
   "metadata": {},
   "outputs": [],
   "source": []
  },
  {
   "cell_type": "code",
   "execution_count": null,
   "metadata": {},
   "outputs": [],
   "source": []
  },
  {
   "cell_type": "code",
   "execution_count": null,
   "metadata": {},
   "outputs": [],
   "source": []
  }
 ],
 "metadata": {
  "kernelspec": {
   "display_name": "Python 3",
   "language": "python",
   "name": "python3"
  },
  "language_info": {
   "codemirror_mode": {
    "name": "ipython",
    "version": 3
   },
   "file_extension": ".py",
   "mimetype": "text/x-python",
   "name": "python",
   "nbconvert_exporter": "python",
   "pygments_lexer": "ipython3",
   "version": "3.8.5"
  }
 },
 "nbformat": 4,
 "nbformat_minor": 4
}
