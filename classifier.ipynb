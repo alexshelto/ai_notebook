{
 "cells": [
  {
   "cell_type": "code",
   "execution_count": 1,
   "metadata": {},
   "outputs": [],
   "source": [
    "import numpy as np\n",
    "from scipy import optimize, special\n",
    "import itertools\n",
    "from tqdm import trange\n",
    "from scipy.special import expit\n"
   ]
  },
  {
   "cell_type": "markdown",
   "metadata": {},
   "source": [
    "## Initialize weights for theta values"
   ]
  },
  {
   "cell_type": "code",
   "execution_count": 2,
   "metadata": {},
   "outputs": [],
   "source": [
    "def rand_initialize_weights(L_in, L_out):\n",
    "    '''Returns a vector of dimension: (L_out, L_in + 1) of random values'''\n",
    "    t = np.zeros((L_out, L_in + 1))\n",
    "    e = 0.12 # sigma\n",
    "    t[:] = np.random.randn(*t.shape) * 2.0 * e - e\n",
    "    return t"
   ]
  },
  {
   "cell_type": "code",
   "execution_count": 3,
   "metadata": {},
   "outputs": [
    {
     "name": "stdout",
     "output_type": "stream",
     "text": [
      "theta1 shape: (120, 785), theta2 shape: (26, 121)\n"
     ]
    }
   ],
   "source": [
    "# Load data\n",
    "data = np.genfromtxt('./data/tt.csv', delimiter=',')\n",
    "y = data[:,0].reshape(-1,1)  # Shape: (688,1)\n",
    "X = data[:, 1:]              # Shape: (m, input_layer_size)\n",
    "m = len(y)\n",
    "\n",
    "input_layer_size = 784\n",
    "hidden_layer_size = 120      # hidden layer has 120 nodes excluding bias \n",
    "num_labels = 26              # 26 total output values: a=0, b=1, ... , z=25\n",
    "\n",
    "# Initialize theta values\n",
    "# theta1 size = (input_layer_size + 1, hidden_layer_size)\n",
    "# theta2 size = (hidden_layer_size + 1, num_labels)\n",
    "np.random.seed(1999)\n",
    "theta1 = rand_initialize_weights(input_layer_size, hidden_layer_size)\n",
    "theta2 = rand_initialize_weights(hidden_layer_size, num_labels)\n",
    "\n",
    "print(f'theta1 shape: {np.shape(theta1)}, theta2 shape: {np.shape(theta2)}')\n",
    "\n",
    "lam = 0.0 # Lambda used for regularization in cost function"
   ]
  },
  {
   "cell_type": "markdown",
   "metadata": {},
   "source": [
    "## Sigmoid function and derivative\n",
    "* Used for activation function in forward propogation\n",
    "* Derivative used for back propogation"
   ]
  },
  {
   "cell_type": "code",
   "execution_count": 4,
   "metadata": {},
   "outputs": [
    {
     "name": "stdout",
     "output_type": "stream",
     "text": [
      "0.5\n",
      "0.25\n"
     ]
    }
   ],
   "source": [
    "def sigmoid(z):\n",
    "   # return (1 / (1 + np.exp(-z)))\n",
    "    return expit(z)\n",
    "\n",
    "def dx_sigmoid(z):\n",
    "    res = sigmoid(z)\n",
    "    return (res * (1 - res))\n",
    "\n",
    "print(sigmoid(0))\n",
    "print(dx_sigmoid(0))"
   ]
  },
  {
   "cell_type": "code",
   "execution_count": 5,
   "metadata": {},
   "outputs": [],
   "source": [
    "def return_labeled(y, num_labels):\n",
    "    '''returns (m,num_labels) matrix where each column corresoponds to an example\n",
    "    all indexes are 0, each column contains a single 1, the row corresponding to the answer'''\n",
    "    out = np.zeros((m, num_labels))\n",
    "    for row in range(0, m):\n",
    "        label = int(y[row])\n",
    "        out[row, label] = 1\n",
    "    return out"
   ]
  },
  {
   "cell_type": "code",
   "execution_count": 6,
   "metadata": {},
   "outputs": [],
   "source": [
    "def forward_backward(X,y):\n",
    "    y_k = return_labeled(y, num_labels) # output matrix used for cost evaluation\n",
    "    # Forward propogation\n",
    "    a1 = np.c_[np.ones((m,1)), X]   # layer 1 : adding a bias column of 1's to X. (m, input_size + 1)\n",
    "    z2 = a1.dot(theta1.T)           # layer 2 matrix calculation\n",
    "    a2 = sigmoid(z2)                # activation of layer 2: shape(m, hidden_layer_size)\n",
    "    a2 = np.c_[np.ones((m, 1)), a2] # adding a bias column of 1's : shape(m, hidden_layer_size + 1)\n",
    "    z3 = a2.dot(theta2.T)           # layer3 || output layer calculation\n",
    "    a3 = sigmoid(z3)                # activation of output layer: size = (m, num_labels)\n",
    "    \n",
    "    # Cost function\n",
    "    # Check this after training\n",
    "    inner_term0 = (-y_k * np.log(a3))\n",
    "    inner_term1 = (1 - y_k) * np.log(1 - a3)\n",
    "    left_side = np.sum(inner_term0 + inner_term1) / m\n",
    "    right_side = np.sum(theta1[:, 1:] ** 2) + np.sum(theta2[:,1:] ** 2) # sum of all theta vals squred excluding theta index0 \n",
    "    right_side = (lam / 2 / m) * right_side\n",
    "    cost = left_side + right_side\n",
    "    print(f'cost: {cost}')\n",
    "    \n",
    "    # Back propogation\n",
    "    delta3 = a3 - y_k\n",
    "    delta2 = delta3.dot(theta2)[:,1:] * dx_sigmoid(z2) # excluding bias\n",
    "    Gradient1 = (delta2.T).dot(a1)\n",
    "    Gradient2 = (delta3.T).dot(a2)\n",
    "    \n",
    "\n",
    "    return cost, a3, Gradient1, Gradient2\n"
   ]
  },
  {
   "cell_type": "code",
   "execution_count": 9,
   "metadata": {},
   "outputs": [
    {
     "name": "stderr",
     "output_type": "stream",
     "text": [
      "loss 0.02 accuracy 0.00:   1%|▏         | 10/688 [00:00<00:07, 94.17it/s] "
     ]
    },
    {
     "name": "stdout",
     "output_type": "stream",
     "text": [
      "cost: -16.002664998057345\n",
      "cost: -12.360678857005533\n",
      "cost: -9.75562748363745\n",
      "cost: -7.851756219928978\n",
      "cost: -6.422448127420966\n",
      "cost: -5.320138192476938\n",
      "cost: -4.448776895102651\n",
      "cost: -3.7448211527121726\n",
      "cost: -3.165260711356478\n",
      "cost: -2.6802605042385563\n",
      "cost: -2.2686238083357506\n",
      "cost: -1.9149505645770368\n",
      "cost: -1.6078204532259386\n",
      "cost: -1.3386052963523525\n",
      "cost: -1.1006756722873448\n",
      "cost: -0.8888597114472543\n",
      "cost: -0.6990666182095243\n",
      "cost: -0.5280199736675979\n",
      "cost: -0.37306560200146677\n",
      "cost: -0.23203098802959587\n",
      "cost: -0.1031209303652523\n",
      "cost: 0.015160940471411838\n",
      "cost: 0.12407191590874236\n"
     ]
    },
    {
     "name": "stderr",
     "output_type": "stream",
     "text": [
      "loss 1.54 accuracy 0.00:   6%|▌         | 38/688 [00:00<00:05, 112.65it/s]"
     ]
    },
    {
     "name": "stdout",
     "output_type": "stream",
     "text": [
      "cost: 0.22467622160820647\n",
      "cost: 0.3178808217784276\n",
      "cost: 0.40446355287026853\n",
      "cost: 0.48509543127077953\n",
      "cost: 0.5603584915828704\n",
      "cost: 0.630760164011506\n",
      "cost: 0.6967449482550201\n",
      "cost: 0.7587039581457762\n",
      "cost: 0.8169827763322659\n",
      "cost: 0.8718879578987018\n",
      "cost: 0.9236924464498333\n",
      "cost: 0.9726401091224927\n",
      "cost: 1.0189495534259252\n",
      "cost: 1.062817355307733\n",
      "cost: 1.1044208018828796\n",
      "cost: 1.1439202320112585\n",
      "cost: 1.1814610420062863\n",
      "cost: 1.2171754111910844\n",
      "cost: 1.2511837920307807\n",
      "cost: 1.2835962015855669\n",
      "cost: 1.3145133446128034\n",
      "cost: 1.344027593463329\n",
      "cost: 1.3722238457096003\n",
      "cost: 1.399180277011584\n",
      "cost: 1.424969003914864\n",
      "cost: 1.4496566689620722\n",
      "cost: 1.473304958587424\n",
      "cost: 1.4959710626786977\n",
      "cost: 1.517708083370779\n",
      "cost: 1.5385653995316582\n",
      "cost: 1.5585889924763725\n"
     ]
    },
    {
     "name": "stderr",
     "output_type": "stream",
     "text": [
      "loss 1.91 accuracy 0.00:  10%|█         | 69/688 [00:00<00:04, 128.64it/s]"
     ]
    },
    {
     "name": "stdout",
     "output_type": "stream",
     "text": [
      "cost: 1.5778217376657613\n",
      "cost: 1.596303666489454\n",
      "cost: 1.614072201675699\n",
      "cost: 1.6311623693976476\n",
      "cost: 1.647606990742675\n",
      "cost: 1.663436854866977\n",
      "cost: 1.6786808758626635\n",
      "cost: 1.6933662351111138\n",
      "cost: 1.7075185106781134\n",
      "cost: 1.721161795117821\n",
      "cost: 1.7343188028895449\n",
      "cost: 1.7470109684498267\n",
      "cost: 1.759258535959339\n",
      "cost: 1.7710806414369298\n",
      "cost: 1.7824953880995908\n",
      "cost: 1.7935199155452417\n",
      "cost: 1.8041704633634557\n",
      "cost: 1.8144624296962113\n",
      "cost: 1.8244104252152726\n",
      "cost: 1.8340283229338672\n",
      "cost: 1.8433293042271652\n",
      "cost: 1.852325901397805\n",
      "cost: 1.861030037088857\n",
      "cost: 1.8694530608165338\n",
      "cost: 1.877605782868236\n",
      "cost: 1.8854985057876978\n",
      "cost: 1.893141053647781\n",
      "cost: 1.9005427992924844\n",
      "cost: 1.9077126897127956\n",
      "cost: 1.9146592697057938\n",
      "cost: 1.9213907039528098\n"
     ]
    },
    {
     "name": "stderr",
     "output_type": "stream",
     "text": [
      "loss 2.05 accuracy 0.00:  17%|█▋        | 115/688 [00:00<00:04, 140.65it/s]"
     ]
    },
    {
     "name": "stdout",
     "output_type": "stream",
     "text": [
      "cost: 1.9279147976402056\n",
      "cost: 1.9342390157353062\n",
      "cost: 1.9403705010201422\n",
      "cost: 1.9463160909767117\n",
      "cost: 1.9520823336093842\n",
      "cost: 1.9576755022828292\n",
      "cost: 1.963101609647197\n",
      "cost: 1.9683664207163725\n",
      "cost: 1.9734754651596327\n",
      "cost: 1.9784340488621939\n",
      "cost: 1.9832472648056105\n",
      "cost: 1.987920003314947\n",
      "cost: 1.9924569617159484\n",
      "cost: 1.996862653442033\n",
      "cost: 2.00114141662788\n",
      "cost: 2.005297422223561\n",
      "cost: 2.009334681660589\n",
      "cost: 2.013257054098905\n",
      "cost: 2.0170682532816926\n",
      "cost: 2.0207718540228905\n",
      "cost: 2.0243712983505002\n",
      "cost: 2.027869901327117\n",
      "cost: 2.031270856567551\n",
      "cost: 2.0345772414720398\n",
      "cost: 2.0377920221922445\n",
      "cost: 2.040918058346009\n",
      "cost: 2.0439581074957904\n",
      "cost: 2.046914829404648\n",
      "cost: 2.0497907900827212\n",
      "cost: 2.0525884656362856\n"
     ]
    },
    {
     "name": "stderr",
     "output_type": "stream",
     "text": [
      "loss 2.11 accuracy 0.00:  19%|█▉        | 130/688 [00:01<00:03, 140.68it/s]"
     ]
    },
    {
     "name": "stdout",
     "output_type": "stream",
     "text": [
      "cost: 2.05531024593067\n",
      "cost: 2.057958438077562\n",
      "cost: 2.0605352697565613\n",
      "cost: 2.063042892380199\n",
      "cost: 2.0654833841110443\n",
      "cost: 2.0678587527389856\n",
      "cost: 2.070170938426254\n",
      "cost: 2.0724218163272914\n",
      "cost: 2.0746131990901255\n",
      "cost: 2.0767468392455086\n",
      "cost: 2.0788244314896906\n",
      "cost: 2.080847614866342\n",
      "cost: 2.082817974852837\n",
      "cost: 2.0847370453557534\n",
      "cost: 2.0866063106202053\n",
      "cost: 2.0884272070573306\n",
      "cost: 2.090201124994012\n",
      "cost: 2.0919294103486723\n",
      "cost: 2.0936133662367737\n",
      "cost: 2.0952542545094546\n",
      "cost: 2.096853297228495\n",
      "cost: 2.0984116780807116\n",
      "cost: 2.099930543734627\n",
      "cost: 2.101411005142152\n",
      "cost: 2.1028541387878543\n",
      "cost: 2.104260987888259\n",
      "cost: 2.1056325635434736\n",
      "cost: 2.1069698458433357\n",
      "cost: 2.1082737849301485\n",
      "cost: 2.1095453020199666\n"
     ]
    },
    {
     "name": "stderr",
     "output_type": "stream",
     "text": [
      "loss 2.14 accuracy 0.00:  24%|██▎       | 162/688 [00:01<00:03, 146.60it/s]"
     ]
    },
    {
     "name": "stdout",
     "output_type": "stream",
     "text": [
      "cost: 2.110785290384288\n",
      "cost: 2.111994616293924\n",
      "cost: 2.1131741199267156\n",
      "cost: 2.114324616240685\n",
      "cost: 2.115446895814136\n",
      "cost: 2.1165417256541317\n",
      "cost: 2.117609849974714\n",
      "cost: 2.118651990946156\n",
      "cost: 2.1196688494164913\n",
      "cost: 2.12066110560647\n",
      "cost: 2.1216294197790795\n",
      "cost: 2.1225744328846723\n",
      "cost: 2.1234967671827296\n",
      "cost: 2.1243970268412067\n",
      "cost: 2.1252757985143846\n",
      "cost: 2.1261336519001097\n",
      "cost: 2.126971140277246\n",
      "cost: 2.1277888010241353\n",
      "cost: 2.1285871561188343\n",
      "cost: 2.1293667126218407\n",
      "cost: 2.130127963142012\n",
      "cost: 2.1308713862863313\n",
      "cost: 2.1315974470941446\n",
      "cost: 2.13230659745649\n",
      "cost: 2.1329992765210823\n",
      "cost: 2.1336759110835053\n",
      "cost: 2.1343369159651457\n",
      "cost: 2.1349826943783627\n",
      "cost: 2.1356136382793895\n",
      "cost: 2.1362301287094145\n",
      "cost: 2.1368325361242966\n"
     ]
    },
    {
     "name": "stderr",
     "output_type": "stream",
     "text": [
      "loss 2.15 accuracy 0.00:  28%|██▊       | 192/688 [00:01<00:03, 145.92it/s]"
     ]
    },
    {
     "name": "stdout",
     "output_type": "stream",
     "text": [
      "cost: 2.1374212207133283\n",
      "cost: 2.137996532707462\n",
      "cost: 2.1385588126773794\n",
      "cost: 2.1391083918217793\n",
      "cost: 2.1396455922462496\n",
      "cost: 2.1401707272330524\n",
      "cost: 2.1406841015021567\n",
      "cost: 2.1411860114638404\n",
      "cost: 2.1416767454631525\n",
      "cost: 2.1421565840165293\n",
      "cost: 2.1426258000408565\n",
      "cost: 2.1430846590752197\n",
      "cost: 2.143533419495623\n",
      "cost: 2.143972332722905\n",
      "cost: 2.1444016434241107\n",
      "cost: 2.1448215897075213\n",
      "cost: 2.1452324033115815\n",
      "cost: 2.1456343097879222\n",
      "cost: 2.1460275286786943\n",
      "cost: 2.146412273688391\n",
      "cost: 2.146788752850359\n",
      "cost: 2.147157168688178\n",
      "cost: 2.1475177183720735\n",
      "cost: 2.1478705938705414\n",
      "cost: 2.1482159820973323\n",
      "cost: 2.148554065053962\n",
      "cost: 2.1488850199678926\n",
      "cost: 2.149209019426525\n",
      "cost: 2.149526231507139\n"
     ]
    },
    {
     "name": "stderr",
     "output_type": "stream",
     "text": [
      "loss 2.16 accuracy 0.00:  32%|███▏      | 222/688 [00:01<00:03, 146.28it/s]"
     ]
    },
    {
     "name": "stdout",
     "output_type": "stream",
     "text": [
      "cost: 2.149836819902931\n",
      "cost: 2.1501409440452557\n",
      "cost: 2.1504387592222045\n",
      "cost: 2.150730416693646\n",
      "cost: 2.1510160638028397\n",
      "cost: 2.1512958440847187\n",
      "cost: 2.1515698973709823\n",
      "cost: 2.151838359892063\n",
      "cost: 2.152101364376096\n",
      "cost: 2.1523590401449755\n",
      "cost: 2.152611513207587\n",
      "cost: 2.152858906350317\n",
      "cost: 2.1531013392249134\n",
      "cost: 2.1533389284337887\n",
      "cost: 2.153571787612844\n",
      "cost: 2.1538000275118883\n",
      "cost: 2.154023756072734\n",
      "cost: 2.154243078505038\n",
      "cost: 2.1544580973599547\n",
      "cost: 2.154668912601678\n",
      "cost: 2.1548756216769243\n",
      "cost: 2.15507831958244\n",
      "cost: 2.155277098930565\n",
      "cost: 2.155472050012943\n",
      "cost: 2.1556632608624144\n",
      "cost: 2.155850817313151\n",
      "cost: 2.1560348030590943\n",
      "cost: 2.1562152997107398\n",
      "cost: 2.1563923868503188\n",
      "cost: 2.156566142085431\n"
     ]
    },
    {
     "name": "stderr",
     "output_type": "stream",
     "text": [
      "loss 2.16 accuracy 0.00:  37%|███▋      | 252/688 [00:01<00:02, 147.70it/s]"
     ]
    },
    {
     "name": "stdout",
     "output_type": "stream",
     "text": [
      "cost: 2.1567366411011686\n",
      "cost: 2.156903957710778\n",
      "cost: 2.157068163904914\n",
      "cost: 2.157229329899502\n",
      "cost: 2.1573875241822877\n",
      "cost: 2.1575428135580723\n",
      "cost: 2.1576952631927027\n",
      "cost: 2.1578449366558488\n",
      "cost: 2.1579918959625783\n",
      "cost: 2.158136201613806\n",
      "cost: 2.158277912635615\n",
      "cost: 2.1584170866175\n",
      "cost: 2.1585537797495595\n",
      "cost: 2.158688046858674\n",
      "cost: 2.158819941443687\n",
      "cost: 2.15894951570963\n",
      "cost: 2.1590768206010145\n",
      "cost: 2.1592019058342147\n",
      "cost: 2.1593248199289747\n",
      "cost: 2.159445610239055\n",
      "cost: 2.159564322982059\n",
      "cost: 2.1596810032684406\n",
      "cost: 2.1597956951297426\n",
      "cost: 2.15990844154606\n",
      "cost: 2.1600192844727784\n",
      "cost: 2.1601282648665814\n",
      "cost: 2.160235422710774\n",
      "cost: 2.160340797039915\n",
      "cost: 2.1604444259638007\n",
      "cost: 2.1605463466908015\n"
     ]
    },
    {
     "name": "stderr",
     "output_type": "stream",
     "text": [
      "loss 2.16 accuracy 0.00:  41%|████      | 282/688 [00:02<00:02, 147.61it/s]"
     ]
    },
    {
     "name": "stdout",
     "output_type": "stream",
     "text": [
      "cost: 2.1606465955505825\n",
      "cost: 2.160745208016219\n",
      "cost: 2.160842218725716\n",
      "cost: 2.160937661502973\n",
      "cost: 2.161031569378176\n",
      "cost: 2.1611239746076625\n",
      "cost: 2.1612149086932573\n",
      "cost: 2.1613044024011003\n",
      "cost: 2.161392485779976\n",
      "cost: 2.1614791881791633\n",
      "cost: 2.161564538265817\n",
      "cost: 2.161648564041892\n",
      "cost: 2.1617312928606256\n",
      "cost: 2.161812751442591\n",
      "cost: 2.161892965891329\n",
      "cost: 2.1619719617085704\n",
      "cost: 2.1620497638090685\n",
      "cost: 2.1621263965350432\n",
      "cost: 2.162201883670245\n",
      "cost: 2.1622762484536677\n",
      "cost: 2.1623495135928876\n",
      "cost: 2.162421701277079\n",
      "cost: 2.1624928331896744\n",
      "cost: 2.162562930520712\n",
      "cost: 2.16263201397886\n",
      "cost: 2.16270010380313\n",
      "cost: 2.162767219774297\n",
      "cost: 2.162833381226015\n",
      "cost: 2.162898607055664\n",
      "cost: 2.162962915734902\n"
     ]
    },
    {
     "name": "stderr",
     "output_type": "stream",
     "text": [
      "loss 2.16 accuracy 0.00:  45%|████▌     | 313/688 [00:02<00:02, 149.05it/s]"
     ]
    },
    {
     "name": "stdout",
     "output_type": "stream",
     "text": [
      "cost: 2.1630263253199598\n",
      "cost: 2.163088853461673\n",
      "cost: 2.1631505174152497\n",
      "cost: 2.163211334049798\n",
      "cost: 2.16327131985761\n",
      "cost: 2.1633304909632103\n",
      "cost: 2.1633888631321696\n",
      "cost: 2.163446451779705\n",
      "cost: 2.1635032719790535\n",
      "cost: 2.1635593384696463\n",
      "cost: 2.1636146656650608\n",
      "cost: 2.1636692676607865\n",
      "cost: 2.1637231582417913\n",
      "cost: 2.1637763508898917\n",
      "cost: 2.163828858790951\n",
      "cost: 2.163880694841882\n",
      "cost: 2.1639318716574905\n",
      "cost: 2.1639824015771327\n",
      "cost: 2.1640322966712175\n",
      "cost: 2.164081568747541\n",
      "cost: 2.16413022935747\n",
      "cost: 2.1641782898019595\n",
      "cost: 2.164225761137433\n",
      "cost: 2.164272654181514\n",
      "cost: 2.1643189795186086\n",
      "cost: 2.1643647475053625\n",
      "cost: 2.16440996827597\n",
      "cost: 2.164454651747362\n",
      "cost: 2.16449880762426\n",
      "cost: 2.1645424454041104\n"
     ]
    },
    {
     "name": "stderr",
     "output_type": "stream",
     "text": [
      "loss 2.17 accuracy 1.00:  50%|████▉     | 343/688 [00:02<00:02, 147.20it/s]"
     ]
    },
    {
     "name": "stdout",
     "output_type": "stream",
     "text": [
      "cost: 2.1645855743818943\n",
      "cost: 2.1646282036548192\n",
      "cost: 2.1646703421268993\n",
      "cost: 2.1647119985134164\n",
      "cost: 2.164753181345283\n",
      "cost: 2.1647938989732856\n",
      "cost: 2.164834159572234\n",
      "cost: 2.164873971145007\n",
      "cost: 2.1649133415264985\n",
      "cost: 2.1649522783874664\n",
      "cost: 2.164990789238293\n",
      "cost: 2.1650288814326495\n",
      "cost: 2.1650665621710714\n",
      "cost: 2.1651038385044536\n",
      "cost: 2.1651407173374553\n",
      "cost: 2.165177205431819\n",
      "cost: 2.1652133094096238\n",
      "cost: 2.165249035756444\n",
      "cost: 2.165284390824441\n",
      "cost: 2.165319380835382\n",
      "cost: 2.165354011883578\n",
      "cost: 2.1653882899387593\n",
      "cost: 2.1654222208488814\n",
      "cost: 2.1654558103428574\n",
      "cost: 2.165489064033233\n",
      "cost: 2.1655219874187943\n",
      "cost: 2.1655545858871106\n",
      "cost: 2.1655868647170236\n",
      "cost: 2.1656188290810703\n",
      "cost: 2.165650484047853\n"
     ]
    },
    {
     "name": "stderr",
     "output_type": "stream",
     "text": [
      "loss 2.17 accuracy 0.00:  54%|█████▍    | 374/688 [00:02<00:02, 148.67it/s]"
     ]
    },
    {
     "name": "stdout",
     "output_type": "stream",
     "text": [
      "cost: 2.1656818345843534\n",
      "cost: 2.1657128855581846\n",
      "cost: 2.165743641739802\n",
      "cost: 2.1657741078046535\n",
      "cost: 2.165804288335276\n",
      "cost: 2.165834187823357\n",
      "cost: 2.165863810671728\n",
      "cost: 2.1658931611963257\n",
      "cost: 2.1659222436281054\n",
      "cost: 2.1659510621149036\n",
      "cost: 2.1659796207232573\n",
      "cost: 2.1660079234401888\n",
      "cost: 2.166035974174941\n",
      "cost: 2.1660637767606747\n",
      "cost: 2.1660913349561275\n",
      "cost: 2.1661186524472287\n",
      "cost: 2.166145732848689\n",
      "cost: 2.166172579705535\n",
      "cost: 2.1661991964946306\n",
      "cost: 2.166225586626136\n",
      "cost: 2.16625175344496\n",
      "cost: 2.1662777002321625\n",
      "cost: 2.1663034302063244\n",
      "cost: 2.166328946524897\n",
      "cost: 2.1663542522855104\n",
      "cost: 2.1663793505272513\n",
      "cost: 2.166404244231922\n",
      "cost: 2.1664289363252576\n",
      "cost: 2.1664534296781235\n",
      "cost: 2.1664777271076843\n"
     ]
    },
    {
     "name": "stderr",
     "output_type": "stream",
     "text": [
      "loss 2.17 accuracy 0.00:  59%|█████▊    | 404/688 [00:02<00:01, 147.37it/s]"
     ]
    },
    {
     "name": "stdout",
     "output_type": "stream",
     "text": [
      "cost: 2.1665018313785427\n",
      "cost: 2.1665257452038555\n",
      "cost: 2.166549471246425\n",
      "cost: 2.1665730121197573\n",
      "cost: 2.166596370389114\n",
      "cost: 2.1666195485725166\n",
      "cost: 2.1666425491417507\n",
      "cost: 2.1666653745233315\n",
      "cost: 2.1666880270994544\n",
      "cost: 2.166710509208925\n",
      "cost: 2.16673282314806\n",
      "cost: 2.166754971171583\n",
      "cost: 2.166776955493483\n",
      "cost: 2.166798778287864\n",
      "cost: 2.1668204416897745\n",
      "cost: 2.166841947796016\n",
      "cost: 2.166863298665933\n",
      "cost: 2.1668844963221874\n",
      "cost: 2.166905542751516\n",
      "cost: 2.1669264399054673\n",
      "cost: 2.1669471897011263\n",
      "cost: 2.166967794021822\n",
      "cost: 2.1669882547178174\n",
      "cost: 2.167008573606983\n",
      "cost: 2.1670287524754603\n",
      "cost: 2.167048793078309\n",
      "cost: 2.1670686971401376\n",
      "cost: 2.1670884663557164\n",
      "cost: 2.1671081023905914\n",
      "cost: 2.167127606881667\n"
     ]
    },
    {
     "name": "stderr",
     "output_type": "stream",
     "text": [
      "loss 2.17 accuracy 0.00:  63%|██████▎   | 434/688 [00:03<00:01, 146.03it/s]"
     ]
    },
    {
     "name": "stdout",
     "output_type": "stream",
     "text": [
      "cost: 2.1671469814377864\n",
      "cost: 2.167166227640298\n",
      "cost: 2.167185347043609\n",
      "cost: 2.1672043411757205\n",
      "cost: 2.167223211538764\n",
      "cost: 2.1672419596095134\n",
      "cost: 2.167260586839892\n",
      "cost: 2.167279094657468\n",
      "cost: 2.1672974844659394\n",
      "cost: 2.1673157576456044\n",
      "cost: 2.1673339155538303\n",
      "cost: 2.1673519595255017\n",
      "cost: 2.167369890873465\n",
      "cost: 2.1673877108889656\n",
      "cost: 2.167405420842067\n",
      "cost: 2.16742302198207\n",
      "cost: 2.1674405155379186\n",
      "cost: 2.1674579027185983\n",
      "cost: 2.16747518471352\n",
      "cost: 2.1674923626929092\n",
      "cost: 2.1675094378081705\n",
      "cost: 2.1675264111922576\n",
      "cost: 2.16754328396003\n",
      "cost: 2.167560057208596\n",
      "cost: 2.167576732017663\n",
      "cost: 2.167593309449866\n",
      "cost: 2.167609790551099\n",
      "cost: 2.1676261763508307\n",
      "cost: 2.1676424678624233\n",
      "cost: 2.167658666083436\n"
     ]
    },
    {
     "name": "stderr",
     "output_type": "stream",
     "text": [
      "loss 2.17 accuracy 0.00:  67%|██████▋   | 464/688 [00:03<00:01, 144.66it/s]"
     ]
    },
    {
     "name": "stdout",
     "output_type": "stream",
     "text": [
      "cost: 2.1676747719959253\n",
      "cost: 2.167690786566743\n",
      "cost: 2.16770671074782\n",
      "cost: 2.1677225454764506\n",
      "cost: 2.167738291675568\n",
      "cost: 2.167753950254013\n",
      "cost: 2.1677695221068016\n",
      "cost: 2.1677850081153807\n",
      "cost: 2.1678004091478837\n",
      "cost: 2.1678157260593793\n",
      "cost: 2.167830959692113\n",
      "cost: 2.1678461108757454\n",
      "cost: 2.167861180427588\n",
      "cost: 2.167876169152825\n",
      "cost: 2.167891077844747\n",
      "cost: 2.1679059072849585\n",
      "cost: 2.167920658243603\n",
      "cost: 2.1679353314795655\n",
      "cost: 2.16794992774068\n",
      "cost: 2.167964447763934\n",
      "cost: 2.167978892275662\n",
      "cost: 2.1679932619917412\n",
      "cost: 2.16800755761778\n",
      "cost: 2.168021779849303\n",
      "cost: 2.1680359293719325\n",
      "cost: 2.1680500068615687\n",
      "cost: 2.1680640129845634\n",
      "cost: 2.1680779483978863\n",
      "cost: 2.1680918137493\n",
      "cost: 2.168105609677518\n"
     ]
    },
    {
     "name": "stderr",
     "output_type": "stream",
     "text": [
      "loss 2.17 accuracy 0.00:  72%|███████▏  | 496/688 [00:03<00:01, 148.17it/s]"
     ]
    },
    {
     "name": "stdout",
     "output_type": "stream",
     "text": [
      "cost: 2.1681193368123677\n",
      "cost: 2.1681329957749482\n",
      "cost: 2.168146587177783\n",
      "cost: 2.1681601116249727\n",
      "cost: 2.1681735697123443\n",
      "cost: 2.1681869620275904\n",
      "cost: 2.16820028915042\n",
      "cost: 2.1682135516526913\n",
      "cost: 2.16822675009855\n",
      "cost: 2.1682398850445663\n",
      "cost: 2.168252957039863\n",
      "cost: 2.168265966626244\n",
      "cost: 2.168278914338319\n",
      "cost: 2.1682918007036354\n",
      "cost: 2.1683046262427883\n",
      "cost: 2.168317391469546\n",
      "cost: 2.1683300968909673\n",
      "cost: 2.168342743007508\n",
      "cost: 2.1683553303131418\n",
      "cost: 2.1683678592954663\n",
      "cost: 2.16838033043581\n",
      "cost: 2.168392744209337\n",
      "cost: 2.168405101085154\n",
      "cost: 2.1684174015264084\n",
      "cost: 2.1684296459903885\n",
      "cost: 2.1684418349286223\n",
      "cost: 2.1684539687869715\n",
      "cost: 2.168466048005726\n",
      "cost: 2.1684780730196964\n",
      "cost: 2.168490044258304\n",
      "cost: 2.1685019621456676\n"
     ]
    },
    {
     "name": "stderr",
     "output_type": "stream",
     "text": [
      "loss 2.17 accuracy 1.00:  77%|███████▋  | 528/688 [00:03<00:01, 151.15it/s]"
     ]
    },
    {
     "name": "stdout",
     "output_type": "stream",
     "text": [
      "cost: 2.1685138271006936\n",
      "cost: 2.1685256395371577\n",
      "cost: 2.16853739986379\n",
      "cost: 2.1685491084843576\n",
      "cost: 2.1685607657977437\n",
      "cost: 2.1685723721980277\n",
      "cost: 2.168583928074561\n",
      "cost: 2.1685954338120426\n",
      "cost: 2.168606889790597\n",
      "cost: 2.1686182963858425\n",
      "cost: 2.1686296539689667\n",
      "cost: 2.1686409629067946\n",
      "cost: 2.1686522235618573\n",
      "cost: 2.168663436292462\n",
      "cost: 2.1686746014527585\n",
      "cost: 2.1686857193927978\n",
      "cost: 2.168696790458607\n",
      "cost: 2.1687078149922434\n",
      "cost: 2.1687187933318586\n",
      "cost: 2.1687297258117626\n",
      "cost: 2.1687406127624764\n",
      "cost: 2.1687514545107955\n",
      "cost: 2.1687622513798472\n",
      "cost: 2.1687730036891413\n",
      "cost: 2.1687837117546325\n",
      "cost: 2.168794375888771\n",
      "cost: 2.168804996400553\n",
      "cost: 2.1688155735955776\n",
      "cost: 2.1688261077760957\n",
      "cost: 2.168836599241062\n",
      "cost: 2.1688470482861795\n"
     ]
    },
    {
     "name": "stderr",
     "output_type": "stream",
     "text": [
      "loss 2.17 accuracy 0.00:  81%|████████▏ | 560/688 [00:03<00:00, 152.65it/s]"
     ]
    },
    {
     "name": "stdout",
     "output_type": "stream",
     "text": [
      "cost: 2.1688574552039555\n",
      "cost: 2.1688678202837424\n",
      "cost: 2.1688781438117886\n",
      "cost: 2.1688884260712826\n",
      "cost: 2.168898667342399\n",
      "cost: 2.168908867902343\n",
      "cost: 2.168919028025391\n",
      "cost: 2.1689291479829382\n",
      "cost: 2.1689392280435373\n",
      "cost: 2.16894926847294\n",
      "cost: 2.1689592695341386\n",
      "cost: 2.1689692314874045\n",
      "cost: 2.1689791545903283\n",
      "cost: 2.1689890390978577\n",
      "cost: 2.168998885262335\n",
      "cost: 2.169008693333537\n",
      "cost: 2.1690184635587055\n",
      "cost: 2.1690281961825884\n",
      "cost: 2.1690378914474726\n",
      "cost: 2.1690475495932193\n",
      "cost: 2.169057170857297\n",
      "cost: 2.1690667554748178\n",
      "cost: 2.1690763036785636\n",
      "cost: 2.1690858156990265\n",
      "cost: 2.1690952917644353\n",
      "cost: 2.169104732100788\n",
      "cost: 2.169114136931881\n",
      "cost: 2.1691235064793424\n",
      "cost: 2.1691328409626602\n",
      "cost: 2.16914214059921\n",
      "cost: 2.1691514056042838\n"
     ]
    },
    {
     "name": "stderr",
     "output_type": "stream",
     "text": [
      "loss 2.17 accuracy 0.00:  86%|████████▌ | 592/688 [00:04<00:00, 152.41it/s]"
     ]
    },
    {
     "name": "stdout",
     "output_type": "stream",
     "text": [
      "cost: 2.1691606361911187\n",
      "cost: 2.1691698325709274\n",
      "cost: 2.1691789949529188\n",
      "cost: 2.1691881235443313\n",
      "cost: 2.169197218550454\n",
      "cost: 2.1692062801746586\n",
      "cost: 2.169215308618416\n",
      "cost: 2.1692243040813306\n",
      "cost: 2.1692332667611574\n",
      "cost: 2.1692421968538316\n",
      "cost: 2.169251094553488\n",
      "cost: 2.1692599600524898\n",
      "cost: 2.169268793541444\n",
      "cost: 2.1692775952092305\n",
      "cost: 2.1692863652430225\n",
      "cost: 2.1692951038283064\n",
      "cost: 2.169303811148906\n",
      "cost: 2.1693124873870024\n",
      "cost: 2.169321132723155\n",
      "cost: 2.169329747336322\n",
      "cost: 2.1693383314038797\n",
      "cost: 2.169346885101645\n",
      "cost: 2.169355408603891\n",
      "cost: 2.16936390208337\n",
      "cost: 2.1693723657113297\n",
      "cost: 2.1693807996575343\n",
      "cost: 2.1693892040902796\n",
      "cost: 2.1693975791764135\n",
      "cost: 2.1694059250813553\n",
      "cost: 2.1694142419691067\n",
      "cost: 2.1694225300022763\n"
     ]
    },
    {
     "name": "stderr",
     "output_type": "stream",
     "text": [
      "loss 2.17 accuracy 0.00:  91%|█████████ | 624/688 [00:04<00:00, 150.37it/s]"
     ]
    },
    {
     "name": "stdout",
     "output_type": "stream",
     "text": [
      "cost: 2.1694307893420923\n",
      "cost: 2.1694390201484213\n",
      "cost: 2.169447222579784\n",
      "cost: 2.1694553967933667\n",
      "cost: 2.1694635429450484\n",
      "cost: 2.1694716611894056\n",
      "cost: 2.1694797516797313\n",
      "cost: 2.1694878145680527\n",
      "cost: 2.169495850005143\n",
      "cost: 2.1695038581405366\n",
      "cost: 2.169511839122546\n",
      "cost: 2.169519793098272\n",
      "cost: 2.169527720213622\n",
      "cost: 2.16953562061332\n",
      "cost: 2.169543494440924\n",
      "cost: 2.169551341838836\n",
      "cost: 2.1695591629483184\n",
      "cost: 2.169566957909502\n",
      "cost: 2.169574726861407\n",
      "cost: 2.1695824699419464\n",
      "cost: 2.1695901872879473\n",
      "cost: 2.1695978790351536\n",
      "cost: 2.1696055453182486\n",
      "cost: 2.1696131862708583\n",
      "cost: 2.169620802025567\n",
      "cost: 2.16962839271393\n",
      "cost: 2.1696359584664804\n",
      "cost: 2.169643499412746\n",
      "cost: 2.1696510156812576\n",
      "cost: 2.169658507399558\n"
     ]
    },
    {
     "name": "stderr",
     "output_type": "stream",
     "text": [
      "loss 2.17 accuracy 0.00:  95%|█████████▌| 656/688 [00:04<00:00, 150.95it/s]"
     ]
    },
    {
     "name": "stdout",
     "output_type": "stream",
     "text": [
      "cost: 2.169665974694216\n",
      "cost: 2.1696734176908365\n",
      "cost: 2.169680836514068\n",
      "cost: 2.169688231287618\n",
      "cost: 2.1696956021342566\n",
      "cost: 2.169702949175835\n",
      "cost: 2.1697102725332864\n",
      "cost: 2.1697175723266424\n",
      "cost: 2.1697248486750382\n",
      "cost: 2.1697321016967264\n",
      "cost: 2.169739331509081\n",
      "cost: 2.1697465382286123\n",
      "cost: 2.16975372197097\n",
      "cost: 2.16976088285096\n",
      "cost: 2.169768020982543\n",
      "cost: 2.1697751364788544\n",
      "cost: 2.1697822294522013\n",
      "cost: 2.1697893000140813\n",
      "cost: 2.169796348275185\n",
      "cost: 2.1698033743454075\n",
      "cost: 2.16981037833385\n",
      "cost: 2.1698173603488375\n",
      "cost: 2.169824320497918\n",
      "cost: 2.1698312588878776\n",
      "cost: 2.169838175624742\n",
      "cost: 2.1698450708137873\n",
      "cost: 2.1698519445595466\n",
      "cost: 2.1698587969658196\n",
      "cost: 2.1698656281356747\n",
      "cost: 2.1698724381714634\n",
      "cost: 2.16987922717482\n"
     ]
    },
    {
     "name": "stderr",
     "output_type": "stream",
     "text": [
      "loss 2.17 accuracy 0.00: 100%|██████████| 688/688 [00:04<00:00, 147.08it/s]"
     ]
    },
    {
     "name": "stdout",
     "output_type": "stream",
     "text": [
      "cost: 2.1698859952466734\n",
      "cost: 2.1698927424872534\n",
      "cost: 2.1698994689960958\n",
      "cost: 2.1699061748720516\n",
      "cost: 2.1699128602132896\n",
      "cost: 2.1699195251173076\n",
      "cost: 2.1699261696809384\n",
      "cost: 2.16993279400035\n",
      "cost: 2.1699393981710613\n",
      "cost: 2.1699459822879397\n",
      "cost: 2.1699525464452147\n",
      "cost: 2.169959090736478\n",
      "cost: 2.169965615254693\n",
      "cost: 2.1699721200921998\n",
      "cost: 2.1699786053407193\n",
      "cost: 2.169985071091362\n",
      "cost: 2.1699915174346334\n",
      "cost: 2.1699979444604356\n",
      "cost: 2.1700043522580774\n",
      "cost: 2.1700107409162785\n",
      "cost: 2.1700171105231743\n",
      "cost: 2.1700234611663203\n",
      "cost: 2.170029792932701\n",
      "cost: 2.170036105908731\n",
      "cost: 2.1700424001802627\n",
      "cost: 2.170048675832589\n",
      "cost: 2.1700549329504524\n",
      "cost: 2.1700611716180465\n"
     ]
    },
    {
     "name": "stderr",
     "output_type": "stream",
     "text": [
      "\n"
     ]
    }
   ],
   "source": [
    "\n",
    "learning_rate = 0.001\n",
    "batch_size = 128\n",
    "\n",
    "# reinitialize thetas\n",
    "theta1 = rand_initialize_weights(input_layer_size, hidden_layer_size)\n",
    "theta2 = rand_initialize_weights(hidden_layer_size, num_labels)\n",
    "\n",
    "losses, accuracies = [], []\n",
    "\n",
    "for i in (t := trange(m)):\n",
    "    J, h_x, grad1, grad2 = forward_backward(X,y)\n",
    "    prediction = np.argmax(h_x, axis=1)\n",
    "    accuracy = (prediction == y[i]).mean()\n",
    "    \n",
    "    # Gradient descent:\n",
    "    theta1 = theta1 - (learning_rate * grad1)\n",
    "    theta2 = theta2 - (learning_rate * grad2)\n",
    "    \n",
    "    loss = J.mean()\n",
    "    losses.append(loss)\n",
    "    \n",
    "    accuracies.append(accuracy)\n",
    "    t.set_description(\"loss %.2f accuracy %.2f\" % (loss, accuracy))\n",
    "\n",
    "    "
   ]
  },
  {
   "cell_type": "code",
   "execution_count": 8,
   "metadata": {},
   "outputs": [],
   "source": [
    "# Model training\n"
   ]
  },
  {
   "cell_type": "code",
   "execution_count": null,
   "metadata": {},
   "outputs": [],
   "source": []
  }
 ],
 "metadata": {
  "kernelspec": {
   "display_name": "Python 3",
   "language": "python",
   "name": "python3"
  },
  "language_info": {
   "codemirror_mode": {
    "name": "ipython",
    "version": 3
   },
   "file_extension": ".py",
   "mimetype": "text/x-python",
   "name": "python",
   "nbconvert_exporter": "python",
   "pygments_lexer": "ipython3",
   "version": "3.8.5"
  }
 },
 "nbformat": 4,
 "nbformat_minor": 4
}
