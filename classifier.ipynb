{
 "cells": [
  {
   "cell_type": "code",
   "execution_count": 1,
   "metadata": {},
   "outputs": [],
   "source": [
    "import numpy as np\n",
    "from scipy import optimize\n",
    "import itertools"
   ]
  },
  {
   "cell_type": "code",
   "execution_count": 2,
   "metadata": {},
   "outputs": [],
   "source": [
    "def randInitializeWeights(L_in, L_out):\n",
    "    e = 0.12 # sigma\n",
    "    t = np.random.random((L_out, L_in + 1)) * 2 * e - e\n",
    "    return t\n",
    "\n",
    "\n",
    "def recode_label(y,num_labels):\n",
    "    '''theres a chance this needs to be the other way'''\n",
    "    rows = len(y)\n",
    "    out = np.zeros((rows, num_labels))\n",
    "    for i in range(0, rows):\n",
    "        row_answer = int(y[i])\n",
    "        out[i, row_answer] = 1\n",
    "        \n",
    "    return out\n",
    "\n",
    "def param_unroll( nn_params, input_layer_size, hidden_layer_size, num_labels ):\n",
    "    theta1_elems = ( input_layer_size + 1 ) * hidden_layer_size\n",
    "    theta1_size  = ( input_layer_size + 1, hidden_layer_size  )\n",
    "    theta2_size  = ( hidden_layer_size + 1, num_labels )\n",
    "\n",
    "    theta1 = nn_params[:theta1_elems].T.reshape( theta1_size ).T\n",
    "    theta2 = nn_params[theta1_elems:].T.reshape( theta2_size ).T\n",
    "\n",
    "    return (theta1, theta2)"
   ]
  },
  {
   "cell_type": "code",
   "execution_count": 3,
   "metadata": {},
   "outputs": [],
   "source": [
    "def feed_forward(theta1, theta2, X):\n",
    "    '''\n",
    "    a1 = (m, input_layer_size + 1), a2 = (m, hidden_layer_size + 1), a3= (m, num_labels)\n",
    "    theta1 = (hidden_layer_size, input_layer_size + 1)\n",
    "    theta2 = (num_labels, hidden_layer_size)\n",
    "    '''\n",
    "    # Input layer\n",
    "    m, _ = np.shape(X)\n",
    "    one_rows = np.ones((1, np.shape(X)[0] ))\n",
    "    a1 = r_[one_rows, X.T]  if X_bias is None else X_bias\n",
    "    # Hidden layer\n",
    "    z2 = a1.dot(theta1.T)\n",
    "    a2 = sigmoid(z2)\n",
    "    a2 = np.c_[np.ones((np.shape(a2)[0], 1)), a2] # bias for hidden layer\n",
    "    # Output layer\n",
    "    z3 = a2.dot(theta2.T)\n",
    "    a3 = sigmoid(z3) #a3 = h(x)\n",
    "    return (a1, a2, a3, z2, z3)"
   ]
  },
  {
   "cell_type": "code",
   "execution_count": 4,
   "metadata": {},
   "outputs": [],
   "source": [
    "def compute_cost( nn_params, input_layer_size, hidden_layer_size, num_labels, X, y, lamda, yk = None, X_bias = None ):\n",
    "    theta1, theta2 = param_unroll( nn_params, input_layer_size, hidden_layer_size, num_labels )\n",
    "    a1,a2,a3,z2,z3 = feed_forward(theta1, theta2, X, X_bias)\n",
    "    \n",
    "    if yk is None:\n",
    "        yk = recode_label(y, num_labels)\n",
    "        assert shape(yk) == shape(a3), \"Error, shape of recoded y is different from a3\"\n",
    "    \n",
    "    # J(theta) function: cross-entropy\n",
    "    term1 = (-y_k * np.log(a3))\n",
    "    term2 = (1 - y_k) * np.log(1 - a3)\n",
    "    cost = np.sum(term1 + term2)/m\n",
    "    # Regularization sum\n",
    "    reg_term = np.sum(theta1 ** 2) + np.sum(theta2[:,1:] ** 2)\n",
    "    reg_term = (_lambda/2/m) * reg_term\n",
    "    return(cost + reg_term)"
   ]
  },
  {
   "cell_type": "code",
   "execution_count": 5,
   "metadata": {},
   "outputs": [
    {
     "name": "stdout",
     "output_type": "stream",
     "text": [
      "(785, 5)\n",
      "(5, 784)\n"
     ]
    },
    {
     "ename": "ValueError",
     "evalue": "cannot reshape array of size 1886 into shape (31,26)",
     "output_type": "error",
     "traceback": [
      "\u001b[0;31m---------------------------------------------------------------------------\u001b[0m",
      "\u001b[0;31mValueError\u001b[0m                                Traceback (most recent call last)",
      "\u001b[0;32m<ipython-input-5-3dc32594fa13>\u001b[0m in \u001b[0;36m<module>\u001b[0;34m\u001b[0m\n\u001b[1;32m     23\u001b[0m \u001b[0mprint\u001b[0m\u001b[0;34m(\u001b[0m\u001b[0mnp\u001b[0m\u001b[0;34m.\u001b[0m\u001b[0mshape\u001b[0m\u001b[0;34m(\u001b[0m\u001b[0mX\u001b[0m\u001b[0;34m)\u001b[0m\u001b[0;34m)\u001b[0m\u001b[0;34m\u001b[0m\u001b[0;34m\u001b[0m\u001b[0m\n\u001b[1;32m     24\u001b[0m \u001b[0;34m\u001b[0m\u001b[0m\n\u001b[0;32m---> 25\u001b[0;31m \u001b[0mprint\u001b[0m\u001b[0;34m(\u001b[0m\u001b[0mcompute_cost\u001b[0m\u001b[0;34m(\u001b[0m\u001b[0munrolled\u001b[0m\u001b[0;34m,\u001b[0m\u001b[0minput_layer_size\u001b[0m\u001b[0;34m,\u001b[0m \u001b[0mhidden_layer_size\u001b[0m\u001b[0;34m,\u001b[0m \u001b[0mnum_labels\u001b[0m\u001b[0;34m,\u001b[0m \u001b[0mX\u001b[0m\u001b[0;34m,\u001b[0m \u001b[0my\u001b[0m\u001b[0;34m,\u001b[0m \u001b[0mlam\u001b[0m\u001b[0;34m,\u001b[0m \u001b[0my_k\u001b[0m\u001b[0;34m,\u001b[0m \u001b[0mX_bias\u001b[0m\u001b[0;34m)\u001b[0m\u001b[0;34m)\u001b[0m\u001b[0;34m\u001b[0m\u001b[0;34m\u001b[0m\u001b[0m\n\u001b[0m\u001b[1;32m     26\u001b[0m \u001b[0;34m\u001b[0m\u001b[0m\n\u001b[1;32m     27\u001b[0m \u001b[0;31m# result = scipy.optimize.fmin_cg(compute_cost, fprime=compute_gradient, x0=unraveled,\u001b[0m\u001b[0;34m\u001b[0m\u001b[0;34m\u001b[0m\u001b[0;34m\u001b[0m\u001b[0m\n",
      "\u001b[0;32m<ipython-input-4-c1375f1b9afa>\u001b[0m in \u001b[0;36mcompute_cost\u001b[0;34m(nn_params, input_layer_size, hidden_layer_size, num_labels, X, y, lamda, yk, X_bias)\u001b[0m\n\u001b[1;32m      1\u001b[0m \u001b[0;32mdef\u001b[0m \u001b[0mcompute_cost\u001b[0m\u001b[0;34m(\u001b[0m \u001b[0mnn_params\u001b[0m\u001b[0;34m,\u001b[0m \u001b[0minput_layer_size\u001b[0m\u001b[0;34m,\u001b[0m \u001b[0mhidden_layer_size\u001b[0m\u001b[0;34m,\u001b[0m \u001b[0mnum_labels\u001b[0m\u001b[0;34m,\u001b[0m \u001b[0mX\u001b[0m\u001b[0;34m,\u001b[0m \u001b[0my\u001b[0m\u001b[0;34m,\u001b[0m \u001b[0mlamda\u001b[0m\u001b[0;34m,\u001b[0m \u001b[0myk\u001b[0m \u001b[0;34m=\u001b[0m \u001b[0;32mNone\u001b[0m\u001b[0;34m,\u001b[0m \u001b[0mX_bias\u001b[0m \u001b[0;34m=\u001b[0m \u001b[0;32mNone\u001b[0m \u001b[0;34m)\u001b[0m\u001b[0;34m:\u001b[0m\u001b[0;34m\u001b[0m\u001b[0;34m\u001b[0m\u001b[0m\n\u001b[0;32m----> 2\u001b[0;31m     \u001b[0mtheta1\u001b[0m\u001b[0;34m,\u001b[0m \u001b[0mtheta2\u001b[0m \u001b[0;34m=\u001b[0m \u001b[0mparam_unroll\u001b[0m\u001b[0;34m(\u001b[0m \u001b[0mnn_params\u001b[0m\u001b[0;34m,\u001b[0m \u001b[0minput_layer_size\u001b[0m\u001b[0;34m,\u001b[0m \u001b[0mhidden_layer_size\u001b[0m\u001b[0;34m,\u001b[0m \u001b[0mnum_labels\u001b[0m \u001b[0;34m)\u001b[0m\u001b[0;34m\u001b[0m\u001b[0;34m\u001b[0m\u001b[0m\n\u001b[0m\u001b[1;32m      3\u001b[0m     \u001b[0ma1\u001b[0m\u001b[0;34m,\u001b[0m\u001b[0ma2\u001b[0m\u001b[0;34m,\u001b[0m\u001b[0ma3\u001b[0m\u001b[0;34m,\u001b[0m\u001b[0mz2\u001b[0m\u001b[0;34m,\u001b[0m\u001b[0mz3\u001b[0m \u001b[0;34m=\u001b[0m \u001b[0mfeed_forward\u001b[0m\u001b[0;34m(\u001b[0m\u001b[0mtheta1\u001b[0m\u001b[0;34m,\u001b[0m \u001b[0mtheta2\u001b[0m\u001b[0;34m,\u001b[0m \u001b[0mX\u001b[0m\u001b[0;34m,\u001b[0m \u001b[0mX_bias\u001b[0m\u001b[0;34m)\u001b[0m\u001b[0;34m\u001b[0m\u001b[0;34m\u001b[0m\u001b[0m\n\u001b[1;32m      4\u001b[0m \u001b[0;34m\u001b[0m\u001b[0m\n\u001b[1;32m      5\u001b[0m     \u001b[0;32mif\u001b[0m \u001b[0myk\u001b[0m \u001b[0;32mis\u001b[0m \u001b[0;32mNone\u001b[0m\u001b[0;34m:\u001b[0m\u001b[0;34m\u001b[0m\u001b[0;34m\u001b[0m\u001b[0m\n",
      "\u001b[0;32m<ipython-input-2-7a20c741dbed>\u001b[0m in \u001b[0;36mparam_unroll\u001b[0;34m(nn_params, input_layer_size, hidden_layer_size, num_labels)\u001b[0m\n\u001b[1;32m     21\u001b[0m \u001b[0;34m\u001b[0m\u001b[0m\n\u001b[1;32m     22\u001b[0m     \u001b[0mtheta1\u001b[0m \u001b[0;34m=\u001b[0m \u001b[0mnn_params\u001b[0m\u001b[0;34m[\u001b[0m\u001b[0;34m:\u001b[0m\u001b[0mtheta1_elems\u001b[0m\u001b[0;34m]\u001b[0m\u001b[0;34m.\u001b[0m\u001b[0mT\u001b[0m\u001b[0;34m.\u001b[0m\u001b[0mreshape\u001b[0m\u001b[0;34m(\u001b[0m \u001b[0mtheta1_size\u001b[0m \u001b[0;34m)\u001b[0m\u001b[0;34m.\u001b[0m\u001b[0mT\u001b[0m\u001b[0;34m\u001b[0m\u001b[0;34m\u001b[0m\u001b[0m\n\u001b[0;32m---> 23\u001b[0;31m     \u001b[0mtheta2\u001b[0m \u001b[0;34m=\u001b[0m \u001b[0mnn_params\u001b[0m\u001b[0;34m[\u001b[0m\u001b[0mtheta1_elems\u001b[0m\u001b[0;34m:\u001b[0m\u001b[0;34m]\u001b[0m\u001b[0;34m.\u001b[0m\u001b[0mT\u001b[0m\u001b[0;34m.\u001b[0m\u001b[0mreshape\u001b[0m\u001b[0;34m(\u001b[0m \u001b[0mtheta2_size\u001b[0m \u001b[0;34m)\u001b[0m\u001b[0;34m.\u001b[0m\u001b[0mT\u001b[0m\u001b[0;34m\u001b[0m\u001b[0;34m\u001b[0m\u001b[0m\n\u001b[0m\u001b[1;32m     24\u001b[0m \u001b[0;34m\u001b[0m\u001b[0m\n\u001b[1;32m     25\u001b[0m     \u001b[0;32mreturn\u001b[0m \u001b[0;34m(\u001b[0m\u001b[0mtheta1\u001b[0m\u001b[0;34m,\u001b[0m \u001b[0mtheta2\u001b[0m\u001b[0;34m)\u001b[0m\u001b[0;34m\u001b[0m\u001b[0;34m\u001b[0m\u001b[0m\n",
      "\u001b[0;31mValueError\u001b[0m: cannot reshape array of size 1886 into shape (31,26)"
     ]
    }
   ],
   "source": [
    "# loading input data\n",
    "data = np.genfromtxt('./data/5.csv', delimiter=',')\n",
    "y = data[:,0].reshape(-1,1)\n",
    "X = data[:, 1:] #(m, input_layer_size)\n",
    "m = len(y)\n",
    "\n",
    "# Network architecture \n",
    "input_layer_size = 748\n",
    "hidden_layer_size = 30\n",
    "num_labels = 26\n",
    "lam = 1.0\n",
    "\n",
    "# Params\n",
    "theta1 = randInitializeWeights( 784, 30 ) # (input_size, hidden layer 1 size)\n",
    "theta2 = randInitializeWeights( 30, 26 )  # (hidden layer 1 size, # labels)\n",
    "unrolled = np.r_[theta1.T.flatten(), theta2.T.flatten()] # 1 dimension (24356,)\n",
    "\n",
    "# matrix holding correct values\n",
    "y_k = recode_label(y,num_labels)\n",
    "\n",
    "X_bias = np.r_[ np.ones((1, np.shape(X)[0] )), X.T] #(input_size + 1, m)\n",
    "print(np.shape(X_bias))\n",
    "print(np.shape(X))\n",
    "\n",
    "print(compute_cost(unrolled,input_layer_size, hidden_layer_size, num_labels, X, y, lam, y_k, X_bias))\n",
    "\n",
    "# result = scipy.optimize.fmin_cg(compute_cost, fprime=compute_gradient, x0=unraveled,\n",
    "#     args=(input_layer_size, hidden_layer_size, num_labels, X, y, lamda, y_k, X_bias),\n",
    "#     maxiter=50, disp=True, full_output=True )\n"
   ]
  },
  {
   "cell_type": "code",
   "execution_count": null,
   "metadata": {},
   "outputs": [],
   "source": []
  },
  {
   "cell_type": "code",
   "execution_count": null,
   "metadata": {},
   "outputs": [],
   "source": []
  }
 ],
 "metadata": {
  "kernelspec": {
   "display_name": "Python 3",
   "language": "python",
   "name": "python3"
  },
  "language_info": {
   "codemirror_mode": {
    "name": "ipython",
    "version": 3
   },
   "file_extension": ".py",
   "mimetype": "text/x-python",
   "name": "python",
   "nbconvert_exporter": "python",
   "pygments_lexer": "ipython3",
   "version": "3.8.5"
  }
 },
 "nbformat": 4,
 "nbformat_minor": 4
}
