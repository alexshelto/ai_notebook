{
 "cells": [
  {
   "cell_type": "code",
   "execution_count": 1,
   "metadata": {},
   "outputs": [],
   "source": [
    "import numpy as np\n",
    "from scipy import optimize, special\n",
    "import itertools\n",
    "from tqdm import trange\n",
    "from scipy.special import expit\n",
    "import matplotlib.pyplot as plt"
   ]
  },
  {
   "cell_type": "markdown",
   "metadata": {},
   "source": [
    "## Initialize weights for theta values"
   ]
  },
  {
   "cell_type": "code",
   "execution_count": 14,
   "metadata": {},
   "outputs": [],
   "source": [
    "def rand_initialize_weights(layer_in, layer_out):\n",
    "    # gaussian is strong\n",
    "    # uniform is stronger\n",
    "    ret = np.random.uniform(-1., 1., size=(layer_out,layer_in + 1))/np.sqrt(layer_out * layer_in)\n",
    "    return ret.astype(np.float32)"
   ]
  },
  {
   "cell_type": "code",
   "execution_count": 3,
   "metadata": {},
   "outputs": [],
   "source": [
    "data = np.genfromtxt('./data/tt.csv', delimiter=',')\n",
    "y = data[:,0].reshape(-1,1)  # Shape: (688,1)\n",
    "X = data[:, 1:] / 255              # Shape: (m, input_layer_size)\n",
    "m = len(y)"
   ]
  },
  {
   "cell_type": "code",
   "execution_count": 15,
   "metadata": {},
   "outputs": [
    {
     "name": "stdout",
     "output_type": "stream",
     "text": [
      "examples: 688\n",
      "theta1 shape: (120, 785), theta2 shape: (26, 121)\n"
     ]
    },
    {
     "data": {
      "text/plain": [
       "<matplotlib.image.AxesImage at 0x7fd877fe1700>"
      ]
     },
     "execution_count": 15,
     "metadata": {},
     "output_type": "execute_result"
    },
    {
     "data": {
      "image/png": "[encoded data removed]",
      "text/plain": [
       "<Figure size 432x288 with 1 Axes>"
      ]
     },
     "metadata": {
      "needs_background": "light"
     },
     "output_type": "display_data"
    }
   ],
   "source": [
    "# Load data\n",
    "# data = np.genfromtxt('./data/sign_mnist_train.csv', delimiter=',')\n",
    "# y = data[:,0].reshape(-1,1)  # Shape: (688,1)\n",
    "# X = data[:, 1:] / 255              # Shape: (m, input_layer_size)\n",
    "# m = len(y)\n",
    "print(f'examples: {m}')\n",
    "\n",
    "input_layer_size = 784\n",
    "hidden_layer_size = 120      # hidden layer has 120 nodes excluding bias \n",
    "num_labels = 26              # 26 total output values: a=0, b=1, ... , z=25\n",
    "\n",
    "# Initialize theta values\n",
    "# theta1 size = (input_layer_size + 1, hidden_layer_size)\n",
    "# theta2 size = (hidden_layer_size + 1, num_labels)\n",
    "np.random.seed(1999)\n",
    "theta1 = rand_initialize_weights(input_layer_size, hidden_layer_size)\n",
    "theta2 = rand_initialize_weights(hidden_layer_size, num_labels)\n",
    "\n",
    "print(f'theta1 shape: {np.shape(theta1)}, theta2 shape: {np.shape(theta2)}')\n",
    "\n",
    "# supposed to be: : theta1 shape (120, 785), theta2 shape: (26, 121)\n",
    "plt.imshow(X[2].reshape(28,28))"
   ]
  },
  {
   "cell_type": "markdown",
   "metadata": {},
   "source": [
    "## Sigmoid function and derivative\n",
    "* Used for activation function in forward propogation\n",
    "* Derivative used for back propogation"
   ]
  },
  {
   "cell_type": "code",
   "execution_count": 5,
   "metadata": {},
   "outputs": [
    {
     "name": "stdout",
     "output_type": "stream",
     "text": [
      "0.5\n",
      "0.25\n"
     ]
    }
   ],
   "source": [
    "def sigmoid(z):\n",
    "   # return (1 / (1 + np.exp(-z)))\n",
    "    s = expit(z)\n",
    "    return s\n",
    "\n",
    "def dx_sigmoid(z):\n",
    "    res = sigmoid(z)\n",
    "    return (res * (1 - res))\n",
    "\n",
    "print(sigmoid(0))\n",
    "print(dx_sigmoid(0))"
   ]
  },
  {
   "cell_type": "code",
   "execution_count": 6,
   "metadata": {},
   "outputs": [],
   "source": [
    "def return_labeled(y, num_labels):\n",
    "    '''returns (m,num_labels) matrix where each column corresoponds to an example\n",
    "    all indexes are 0, each column contains a single 1, the row corresponding to the answer'''\n",
    "    m = np.size(y)\n",
    "    out = np.zeros((m, num_labels))\n",
    "    for row in range(0, m):\n",
    "        label = int(y[row])\n",
    "        out[row, label] = 1\n",
    "    return out"
   ]
  },
  {
   "cell_type": "code",
   "execution_count": 7,
   "metadata": {},
   "outputs": [],
   "source": [
    "def forward_backward(X,y):\n",
    "    y_k = return_labeled(y, num_labels) # output matrix used for cost evaluation\n",
    "    m = len(y)\n",
    "    # Forward propogation\n",
    "    a1 = np.c_[np.ones((m,1)), X]   # layer 1 : adding a bias column of 1's to X. (m, input_size + 1)\n",
    "    z2 = a1.dot(theta1.T)           # layer 2 matrix calculation\n",
    "    a2 = sigmoid(z2)                # activation of layer 2: shape(m, hidden_layer_size)\n",
    "    a2 = np.c_[np.ones((m, 1)), a2] # adding a bias column of 1's : shape(m, hidden_layer_size + 1)\n",
    "    z3 = a2.dot(theta2.T)           # layer3 || output layer calculation\n",
    "    a3 = sigmoid(z3)                # activation of output layer: size = (m, num_labels)\n",
    "    \n",
    "    # Cost function\n",
    "    inner_term0 = (-y_k * np.log(a3))\n",
    "    inner_term1 = (1 - y_k) * np.log(1 - a3)\n",
    "    left_side = np.sum(inner_term0 - inner_term1) / m\n",
    "    right_side = np.sum(theta1[:, 1:] ** 2) + np.sum(theta2[:,1:] ** 2) # sum of all theta vals squred excluding theta index0 \n",
    "    right_side = (lam / 2 / m) * right_side\n",
    "    cost = left_side + right_side\n",
    "    \n",
    "    # Back propogation\n",
    "#     print(f'shape of a3: {np.shape(a3)}')\n",
    "#     print(f'shape of y_k: {np.shape(y_k)}')\n",
    "    print(a3)\n",
    "    delta3 = a3 - y_k\n",
    "    delta2 = delta3.dot(theta2)[:,1:] * dx_sigmoid(z2) # excluding bias\n",
    "    Gradient1 = (delta2.T).dot(a1)\n",
    "    Gradient2 = (delta3.T).dot(a2)\n",
    "    \n",
    "#     print(f'Gradient 1: {Gradient1}')\n",
    "#     print(f'Gradient 2: {Gradient2}')\n",
    "\n",
    "    \n",
    "    return cost, a3, Gradient1, Gradient2"
   ]
  },
  {
   "cell_type": "code",
   "execution_count": 8,
   "metadata": {},
   "outputs": [],
   "source": [
    "def check_same(ar):\n",
    "    for i in range(0, len(ar) - 1):\n",
    "        if(ar[i] != ar[i + 1]):\n",
    "            return False\n",
    "    return True"
   ]
  },
  {
   "cell_type": "code",
   "execution_count": 13,
   "metadata": {},
   "outputs": [
    {
     "name": "stdout",
     "output_type": "stream",
     "text": [
      "[[0.50950356 0.51501518 0.47593525 ... 0.50454888 0.49093125 0.50636233]\n",
      " [0.5094905  0.51504636 0.47589373 ... 0.50453575 0.4910308  0.50643268]\n",
      " [0.5095413  0.51498973 0.47595636 ... 0.50454132 0.49098482 0.5064939 ]\n",
      " ...\n",
      " [0.50959752 0.51498351 0.47584723 ... 0.50448207 0.49098047 0.50651573]\n",
      " [0.50953366 0.51517582 0.47600034 ... 0.50450733 0.49107216 0.50646702]\n",
      " [0.50955807 0.51490358 0.47590745 ... 0.50452401 0.49089121 0.50650077]]\n",
      "rats\n",
      "[11 11 11 11 11 11 11 11 11 11 11 11 11 11 11 11 11 11 11 11 11 11 11 11\n",
      " 11 11 11 11 11 11 11 11 11 11 11 11 11 11 11 11]\n",
      "(40,)\n",
      "(26,)\n"
     ]
    }
   ],
   "source": [
    "\n",
    "learning_rate = 0.0001\n",
    "batch_size = 40\n",
    "lam = 2.5 # Lambda used for regularization in cost function\n",
    "\n",
    "\n",
    "# reinitialize thetas\n",
    "theta1 = rand_initialize_weights(input_layer_size, hidden_layer_size)\n",
    "theta2 = rand_initialize_weights(hidden_layer_size, num_labels)\n",
    "\n",
    "losses, accuracies = [], []\n",
    "samp = np.random.randint(0, X.shape[0], size=(batch_size))\n",
    "X_train = X[samp]\n",
    "y_train = y[samp]\n",
    "J, h_x, grad1, grad2 = forward_backward(X_train, y_train)\n",
    "\n",
    "\n",
    "prediction = np.argmax(h_x, axis=1)\n",
    "\n",
    "if(check_same(prediction)):\n",
    "    print('rats')\n",
    "else:\n",
    "    print('im so happy')\n",
    "\n",
    "print(prediction)\n",
    "xi = np.argmax(h_x, axis=0)\n",
    "print(np.shape(prediction))\n",
    "print(np.shape(xi))"
   ]
  },
  {
   "cell_type": "code",
   "execution_count": 10,
   "metadata": {},
   "outputs": [],
   "source": [
    "# # Model training\n",
    "\n",
    "# for i in (t := trange(1000)):\n",
    "#     samp = np.random.randint(0, X.shape[0], size=(batch_size))\n",
    "#     X_train = X[samp]\n",
    "#     y_train = y[samp]\n",
    "#     J, h_x, grad1, grad2 = forward_backward(X_train, y_train)\n",
    "    \n",
    "#     prediction = np.argmax(h_x, axis=1)\n",
    "# #     if(check_same(prediction)):\n",
    "# #         print(\"all the same\")\n",
    "#     accuracy = (prediction == y).mean()\n",
    "    \n",
    "#     # Gradient descent:\n",
    "#     theta1 = theta1 - (learning_rate * grad1)\n",
    "#     theta2 = theta2 - (learning_rate * grad2)\n",
    "    \n",
    "#     loss = J.mean()\n",
    "#     losses.append(loss)\n",
    "    \n",
    "#     accuracies.append(accuracy)\n",
    "#     t.set_description(\"loss %.2f accuracy %.2f\" % (loss, accuracy))\n"
   ]
  }
 ],
 "metadata": {
  "kernelspec": {
   "display_name": "Python 3",
   "language": "python",
   "name": "python3"
  },
  "language_info": {
   "codemirror_mode": {
    "name": "ipython",
    "version": 3
   },
   "file_extension": ".py",
   "mimetype": "text/x-python",
   "name": "python",
   "nbconvert_exporter": "python",
   "pygments_lexer": "ipython3",
   "version": "3.8.5"
  }
 },
 "nbformat": 4,
 "nbformat_minor": 4
}
