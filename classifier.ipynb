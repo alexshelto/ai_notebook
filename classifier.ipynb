{
 "cells": [
  {
   "cell_type": "code",
   "execution_count": 3,
   "metadata": {},
   "outputs": [],
   "source": [
    "import numpy as np\n",
    "from scipy import optimize, special\n",
    "import itertools\n",
    "from tqdm import tqdm # cool load bar\n"
   ]
  },
  {
   "cell_type": "code",
   "execution_count": 44,
   "metadata": {},
   "outputs": [
    {
     "name": "stdout",
     "output_type": "stream",
     "text": [
      "theta1 shape: (120, 785), theta2 shape: (26, 121)\n"
     ]
    }
   ],
   "source": [
    "# Load data\n",
    "data = np.genfromtxt('./data/5.csv', delimiter=',')\n",
    "y = data[:,0].reshape(-1,1)  # Shape: (688,1)\n",
    "X = data[:, 1:]              # Shape: (m, input_layer_size)\n",
    "m = len(y)\n",
    "\n",
    "input_layer_size = 784\n",
    "hidden_layer_size = 120      # hidden layer has 120 nodes excluding bias \n",
    "num_labels = 26              # 26 total output values: a=0, b=1, ... , z=25\n",
    "\n",
    "# Initialize theta values\n",
    "# theta1 size = (input_layer_size + 1, hidden_layer_size)\n",
    "# theta2 size = (hidden_layer_size + 1, num_labels)\n",
    "np.random.seed(1999)\n",
    "theta1 = rand_initialize_weights(input_layer_size, hidden_layer_size)\n",
    "theta2 = rand_initialize_weights(hidden_layer_size, num_labels)\n",
    "\n",
    "print(f'theta1 shape: {np.shape(theta1)}, theta2 shape: {np.shape(theta2)}')\n",
    "\n",
    "lam = 0.0 # Lambda used for regularization in cost function"
   ]
  },
  {
   "cell_type": "markdown",
   "metadata": {},
   "source": [
    "## Initialize weights for theta values"
   ]
  },
  {
   "cell_type": "code",
   "execution_count": 45,
   "metadata": {},
   "outputs": [],
   "source": [
    "def rand_initialize_weights(L_in, L_out):\n",
    "    '''Returns a vector of dimension: (L_out, L_in + 1) of random values'''\n",
    "    t = np.zeros((L_out, L_in + 1))\n",
    "    e = 0.12 # sigma\n",
    "    t[:] = np.random.randn(*t.shape) * 2.0 * e - e\n",
    "    return t"
   ]
  },
  {
   "cell_type": "markdown",
   "metadata": {},
   "source": [
    "## Sigmoid function and derivative\n",
    "* Used for activation function in forward propogation\n",
    "* Derivative used for back propogation"
   ]
  },
  {
   "cell_type": "code",
   "execution_count": 42,
   "metadata": {},
   "outputs": [
    {
     "name": "stdout",
     "output_type": "stream",
     "text": [
      "0.5\n",
      "0.25\n"
     ]
    }
   ],
   "source": [
    "def sigmoid(z):\n",
    "    return (1 / (1 + np.exp(-z)))\n",
    "\n",
    "def dx_sigmoid(z):\n",
    "    res = sigmoid(z)\n",
    "    return (res * (1 - res))\n",
    "\n",
    "print(sigmoid(0))\n",
    "print(dx_sigmoid(0))"
   ]
  },
  {
   "cell_type": "code",
   "execution_count": 64,
   "metadata": {},
   "outputs": [],
   "source": [
    "def return_labeled(y, num_labels):\n",
    "    '''returns (num_labels, m) matrix where each column corresoponds to an example\n",
    "    all indexes are 0, each column contains a single 1, the row corresponding to the answer'''\n",
    "    out = np.zeros((num_labels, m))\n",
    "    for example in range(0, m):\n",
    "        label_index = int(y[example])\n",
    "        out[label_index, example] = 1\n",
    "    return out"
   ]
  },
  {
   "cell_type": "code",
   "execution_count": 65,
   "metadata": {},
   "outputs": [],
   "source": [
    "def forward_backward(X,y):\n",
    "    y_k = return_labeled(y, num_labels) # output matrix used for cost evaluation\n",
    "\n",
    "    # Forward propogation\n",
    "    \n",
    "    "
   ]
  },
  {
   "cell_type": "code",
   "execution_count": null,
   "metadata": {},
   "outputs": [],
   "source": []
  }
 ],
 "metadata": {
  "kernelspec": {
   "display_name": "Python 3",
   "language": "python",
   "name": "python3"
  },
  "language_info": {
   "codemirror_mode": {
    "name": "ipython",
    "version": 3
   },
   "file_extension": ".py",
   "mimetype": "text/x-python",
   "name": "python",
   "nbconvert_exporter": "python",
   "pygments_lexer": "ipython3",
   "version": "3.8.5"
  }
 },
 "nbformat": 4,
 "nbformat_minor": 4
}
