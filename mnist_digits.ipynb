{
 "cells": [
  {
   "cell_type": "code",
   "execution_count": 1,
   "metadata": {},
   "outputs": [],
   "source": [
    "import numpy as np\n",
    "from tqdm import trange\n",
    "import matplotlib.pyplot as plt"
   ]
  },
  {
   "cell_type": "code",
   "execution_count": 2,
   "metadata": {},
   "outputs": [],
   "source": [
    "# load the mnist dataset\n",
    "\n",
    "def fetch(url):\n",
    "  import requests, gzip, os, hashlib, numpy\n",
    "  fp = os.path.join(\"/tmp\", hashlib.md5(url.encode('utf-8')).hexdigest())\n",
    "  if os.path.isfile(fp):\n",
    "    with open(fp, \"rb\") as f:\n",
    "      dat = f.read()\n",
    "  else:\n",
    "    with open(fp, \"wb\") as f:\n",
    "      dat = requests.get(url).content\n",
    "      f.write(dat)\n",
    "  return numpy.frombuffer(gzip.decompress(dat), dtype=np.uint8).copy()\n",
    "\n",
    "# Shape(m, pixel rows, pixel cols) == (6000, 28, 28)\n",
    "X_train = fetch(\"http://yann.lecun.com/exdb/mnist/train-images-idx3-ubyte.gz\")[0x10:].reshape((-1, 28, 28))\n",
    "y_train = fetch(\"http://yann.lecun.com/exdb/mnist/train-labels-idx1-ubyte.gz\")[8:]\n",
    "\n",
    "X_test = fetch(\"http://yann.lecun.com/exdb/mnist/t10k-images-idx3-ubyte.gz\")[0x10:].reshape((-1, 28, 28))\n",
    "y_test = fetch(\"http://yann.lecun.com/exdb/mnist/t10k-labels-idx1-ubyte.gz\")[8:]\n",
    "\n",
    "# Normalizing pixel values from [0,1]\n",
    "X_train = X_train.astype('float32') / 255\n",
    "X_test = X_test.astype('float32') / 255"
   ]
  },
  {
   "cell_type": "code",
   "execution_count": 10,
   "metadata": {},
   "outputs": [],
   "source": [
    "def layer_init(L_IN, L_OUT):\n",
    "    # uniform dist\n",
    "    ret = np.random.uniform(-1., 1., size=(L_IN,L_OUT))/np.sqrt(L_IN*L_OUT)\n",
    "    return ret.astype(np.float32)\n"
   ]
  },
  {
   "cell_type": "code",
   "execution_count": 11,
   "metadata": {},
   "outputs": [],
   "source": [
    "def return_labeled(y, num_labels):\n",
    "    '''returns (m, num_labels) matrix of correct answers'''\n",
    "    out = np.zeros((len(y), num_labels), np.float32)\n",
    "    for example in range(0, len(y)):\n",
    "        correct_answer = int(y[example])\n",
    "        out[example, correct_answer] = 1\n",
    "    return out"
   ]
  },
  {
   "cell_type": "code",
   "execution_count": 12,
   "metadata": {},
   "outputs": [],
   "source": [
    "def ReLU(x):\n",
    "    ''' 0: if x < 0\n",
    "        x: otherwise\n",
    "    '''\n",
    "    return x * (x > 0).astype(np.float32)\n",
    "\n",
    "def dx_ReLU(x):\n",
    "    '''0: if x < 0\n",
    "       1: otherwise\n",
    "    '''\n",
    "    return 1. * (x > 0).astype(np.float32)\n",
    "\n",
    "def log_sum_exp(x):\n",
    "    '''normalizing'''\n",
    "  # http://gregorygundersen.com/blog/2020/02/09/log-sum-exp/\n",
    "    c = x.max(axis=1)\n",
    "    return c + np.log(np.exp(x-c.reshape((-1, 1))).sum(axis=1))"
   ]
  },
  {
   "cell_type": "code",
   "execution_count": 13,
   "metadata": {},
   "outputs": [],
   "source": [
    "def propogate(X,y):\n",
    "    ''' handles forward and backwards propogation\n",
    "    X size     : (m, input_layer_size)\n",
    "    theta1 size: (input_layer_size, hidden_layer_size)\n",
    "    theta2 size: (hidden_layer_size, num_labels) '''\n",
    "    labels = return_labeled(y, num_labels) # (m, num_labels) of correct outputs\n",
    "    \n",
    "    # Forward Propogate:\n",
    "    z2 = X.dot(theta1)                              # calculating layer 2 before activation\n",
    "    a2_relu = ReLU(z2)                              # Activation of hidden layer using ReLU\n",
    "    z3 = a2_relu.dot(theta2)                        # calculating layer 3\n",
    "    log_sm = z3 - log_sum_exp(z3).reshape(-1,1)     # log sum normalizing z3: LOG SOFTMAX \n",
    "    J = (-labels * log_sm).mean(axis=1)             # Calculating cost with log probs to normalize and avoid overflows\n",
    "    \n",
    "    # Back propogation\n",
    "    d_out = -labels / len(y)                        # Replace 1 in each row of labeld with (-1/m), else 0\n",
    "    # Taking derivative of log soft max: https://github.com/torch/nn/blob/master/lib/THNN/generic/LogSoftMax.c\n",
    "    dx_log_sm = d_out - np.exp(log_sm)*d_out.sum(axis=1).reshape((-1, 1))\n",
    "    \n",
    "    # output layer -> hidden layer\n",
    "    grad2 = a2_relu.T.dot(dx_log_sm)\n",
    "    dx_relu = dx_log_sm.dot(theta2.T)\n",
    "    \n",
    "    # derivative of relu\n",
    "    dx_theta1 = dx_ReLU(a2_relu) * dx_relu\n",
    "    # derivative of theta1\n",
    "    grad1 = X.T.dot(dx_theta1)\n",
    "      \n",
    "    return J, z3, grad1, grad2\n",
    "    "
   ]
  },
  {
   "cell_type": "code",
   "execution_count": 14,
   "metadata": {},
   "outputs": [],
   "source": [
    "# Network Architecture\n",
    "input_layer_size = 784   # (28,28) pixels\n",
    "hidden_layer_size = 120  # Hidden layer nodes\n",
    "num_labels = 10          # digits [0-9] = 10 total\n",
    "\n",
    "np.random.seed(1420)\n",
    "theta1 = layer_init(input_layer_size, hidden_layer_size)  # (input_layer_size,hidden_layer_size)\n",
    "theta2 = layer_init(hidden_layer_size, num_labels)        # (hidden_layer_size, num_labels)\n",
    "\n",
    "learning_rate = 1.0  # (learning rate is so high because X matrix normalized from [0-255] -> [0,1], w/o norm: 0.001)\n",
    "batch_size = 144\n",
    "epochs = 1000\n",
    "\n",
    "costs, accuracies = [], []"
   ]
  },
  {
   "cell_type": "code",
   "execution_count": 15,
   "metadata": {},
   "outputs": [
    {
     "name": "stderr",
     "output_type": "stream",
     "text": [
      "loss 0.01 accuracy 0.98: 100%|██████████| 1000/1000 [00:02<00:00, 455.48it/s]\n"
     ]
    },
    {
     "data": {
      "text/plain": [
       "[<matplotlib.lines.Line2D at 0x7fac386b5df0>]"
      ]
     },
     "execution_count": 15,
     "metadata": {},
     "output_type": "execute_result"
    },
    {
     "data": {
      "image/png": "[encoded data removed]",
      "text/plain": [
       "<Figure size 432x288 with 1 Axes>"
      ]
     },
     "metadata": {
      "needs_background": "light"
     },
     "output_type": "display_data"
    }
   ],
   "source": [
    "# Training logic\n",
    "for i in (t := trange(epochs)):\n",
    "    \n",
    "    # Grabbing a random array of size batch size, indexes [0-m], m := # examples\n",
    "    samples = np.random.randint(0, len(y_train), size=(batch_size))\n",
    "    X = X_train[samples].reshape(-1, 28 * 28)   # (m, pixel rows, pixel cols) -> (m, pixels)\n",
    "    y = y_train[samples]                        # (m, ) vector of output MIGHT {NEED TO RESHAPE}\n",
    "    \n",
    "    cost, h, gradient1, gradient2 = propogate(X,y) # fwd/back prop. returns (cost, predictions, theta1 grad, theta2 grad)\n",
    "    \n",
    "    prediction = np.argmax(h, axis=1)\n",
    "    accuracy = (prediction == y).mean()\n",
    "    \n",
    "    # Stoich grad descent\n",
    "    theta1 = theta1 - (learning_rate * gradient1)\n",
    "    theta2 = theta2 - (learning_rate * gradient2)\n",
    "    \n",
    "    \n",
    "    cost = cost.mean()\n",
    "    costs.append(cost)\n",
    "    accuracies.append(accuracy)\n",
    "    t.set_description(\"loss %.2f accuracy %.2f\" % (cost, accuracy))\n",
    "\n",
    "\n",
    "# Displaying cost and accuracy over iterations\n",
    "plt.ylim(-0.1, 1.1)\n",
    "plt.plot(costs)\n",
    "plt.plot(accuracies)\n"
   ]
  },
  {
   "cell_type": "code",
   "execution_count": 48,
   "metadata": {},
   "outputs": [
    {
     "name": "stdout",
     "output_type": "stream",
     "text": [
      "Accuracy on test set: 0.9658\n"
     ]
    }
   ],
   "source": [
    "# Evaluating Performance \n",
    "def fwd_pass(X):\n",
    "    '''Creates Prediction matrix from fwd propogation'''\n",
    "    out = X.dot(theta1)\n",
    "    out = ReLU(out)\n",
    "    out = out.dot(theta2)\n",
    "    return out\n",
    "\n",
    "def evaluate_network():\n",
    "    raw_predictions = fwd_pass(X_test.reshape(-1, 28 * 28))\n",
    "    matrix_prediction = np.argmax(raw_predictions, axis=1)\n",
    "    accuracy = (matrix_prediction == y_test).mean()\n",
    "    return accuracy\n",
    "\n",
    "print(f'Accuracy on test set: {evaluate_network()}')"
   ]
  },
  {
   "cell_type": "code",
   "execution_count": 49,
   "metadata": {},
   "outputs": [
    {
     "name": "stdout",
     "output_type": "stream",
     "text": [
      "guess: [[-3.5669532  -4.9584923   0.03294102  0.4303004   6.4639773  -1.0864147\n",
      "  -5.0805697   0.06882006  1.3982292   5.686567  ]], answer: 4\n"
     ]
    }
   ],
   "source": [
    "def random_predict():\n",
    "    '''Randomly selects an ex from test data. makes a guess and displays'''\n",
    "    sample_num = np.random.randint(0,len(y_test))\n",
    "    X,y = X_test[sample_num], y_test[sample_num]\n",
    "    # making prediction\n",
    "    prediction = fwd_pass(X.reshape(-1, 28 * 28))\n",
    "    prediction = np.argmax(prediction, axis = 1)\n",
    "    \n",
    "    plt.imshow(X.reshape(28,28))\n",
    "    print(f'guess: {prediction}, answer: {y}')\n",
    "random_predict()"
   ]
  },
  {
   "cell_type": "code",
   "execution_count": null,
   "metadata": {},
   "outputs": [],
   "source": [
    "plt.imshow()"
   ]
  }
 ],
 "metadata": {
  "kernelspec": {
   "display_name": "Python 3",
   "language": "python",
   "name": "python3"
  },
  "language_info": {
   "codemirror_mode": {
    "name": "ipython",
    "version": 3
   },
   "file_extension": ".py",
   "mimetype": "text/x-python",
   "name": "python",
   "nbconvert_exporter": "python",
   "pygments_lexer": "ipython3",
   "version": "3.8.5"
  }
 },
 "nbformat": 4,
 "nbformat_minor": 4
}
