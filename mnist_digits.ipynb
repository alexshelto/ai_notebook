{
 "cells": [
  {
   "cell_type": "code",
   "execution_count": 1,
   "metadata": {},
   "outputs": [],
   "source": [
    "import numpy as np\n",
    "from tqdm import trange\n"
   ]
  },
  {
   "cell_type": "code",
   "execution_count": 23,
   "metadata": {},
   "outputs": [],
   "source": [
    "# load the mnist dataset\n",
    "\n",
    "def fetch(url):\n",
    "  import requests, gzip, os, hashlib, numpy\n",
    "  fp = os.path.join(\"/tmp\", hashlib.md5(url.encode('utf-8')).hexdigest())\n",
    "  if os.path.isfile(fp):\n",
    "    with open(fp, \"rb\") as f:\n",
    "      dat = f.read()\n",
    "  else:\n",
    "    with open(fp, \"wb\") as f:\n",
    "      dat = requests.get(url).content\n",
    "      f.write(dat)\n",
    "  return numpy.frombuffer(gzip.decompress(dat), dtype=np.uint8).copy()\n",
    "\n",
    "# Shape(m, pixel rows, pixel cols) == (6000, 28, 28)\n",
    "X_train = fetch(\"http://yann.lecun.com/exdb/mnist/train-images-idx3-ubyte.gz\")[0x10:].reshape((-1, 28, 28))\n",
    "y_train = fetch(\"http://yann.lecun.com/exdb/mnist/train-labels-idx1-ubyte.gz\")[8:]\n",
    "X_test = fetch(\"http://yann.lecun.com/exdb/mnist/t10k-images-idx3-ubyte.gz\")[0x10:].reshape((-1, 28, 28))\n",
    "y_test = fetch(\"http://yann.lecun.com/exdb/mnist/t10k-labels-idx1-ubyte.gz\")[8:]\n",
    "\n",
    "# Normalizing pixel values from [0,1]\n",
    "X_train = X_train.astype('float32') / 255\n",
    "X_test = X_test.astype('float32') / 255"
   ]
  },
  {
   "cell_type": "code",
   "execution_count": 24,
   "metadata": {},
   "outputs": [],
   "source": [
    "def layer_init(L_IN, L_OUT):\n",
    "  # uniform dist\n",
    "  ret = np.random.uniform(-1., 1., size=(L_OUT,L_IN))/np.sqrt(L_IN*L_OUT)\n",
    "  return ret.astype(np.float32)\n"
   ]
  },
  {
   "cell_type": "code",
   "execution_count": null,
   "metadata": {},
   "outputs": [],
   "source": []
  },
  {
   "cell_type": "code",
   "execution_count": 48,
   "metadata": {},
   "outputs": [],
   "source": [
    "def propogate(X,y):\n",
    "    '''handles forward and backwards propogation\n",
    "    theta1 size: (hidden_layer_size , input_layer_size)\n",
    "    theta2 size: (num_labels , hidden_layer_size)\n",
    "    '''\n",
    "    out = np.zeros((len(y),10), np.float32)\n",
    "    out[range(out.shape[0]),y] = 1\n",
    "    print(out)\n",
    "    \n",
    "    "
   ]
  },
  {
   "cell_type": "code",
   "execution_count": 51,
   "metadata": {},
   "outputs": [],
   "source": [
    "# Architecture\n",
    "input_layer_size = 784   # (28,28) pixels\n",
    "hidden_layer_size = 120  # Hidden layer nodes\n",
    "num_labels = 10          # digits [0-9] = 10 total\n",
    "\n",
    "np.random.seed(1420)\n",
    "theta1 = layer_init(input_layer_size, hidden_layer_size)  # (hidden_layer_size , input_layer_size)\n",
    "theta2 = layer_init(hidden_layer_size, num_labels)        # (num_labels , hidden_layer_size)\n",
    "\n",
    "learning_rate = 0.0001\n",
    "batch_size = 12\n",
    "epochs = 20\n",
    "\n",
    "costs, accuracies = [], []"
   ]
  },
  {
   "cell_type": "code",
   "execution_count": 52,
   "metadata": {},
   "outputs": [
    {
     "name": "stderr",
     "output_type": "stream",
     "text": [
      "100%|██████████| 20/20 [00:00<00:00, 5199.01it/s]"
     ]
    },
    {
     "name": "stdout",
     "output_type": "stream",
     "text": [
      "[]\n",
      "[]\n",
      "[]\n",
      "[]\n",
      "[]\n",
      "[]\n",
      "[]\n",
      "[]\n",
      "[]\n",
      "[]\n",
      "[]\n",
      "[]\n",
      "[]\n",
      "[]\n",
      "[]\n",
      "[]\n",
      "[]\n",
      "[]\n",
      "[]\n",
      "[]\n"
     ]
    },
    {
     "name": "stderr",
     "output_type": "stream",
     "text": [
      "\n"
     ]
    }
   ],
   "source": [
    "\n",
    "\n",
    "# Training logic\n",
    "for i in (t := trange(epochs)):\n",
    "    \n",
    "    # Grabbing a random array of size batch size, indexes [0-m], m := # examples\n",
    "    samples = np.random.randint(0, len(y_train), size=(batch_size))\n",
    "    X = X_train[samples].reshape(-1, 28 * 28) # (m, pixel rows, pixel cols) -> (m, pixels)\n",
    "    y = y_train[samples]                      # (m, ) vector of output MIGHT {NEED TO RESHAPE}\n",
    "    \n",
    "    propogate(X,y)\n",
    "    \n",
    "    pass\n",
    "\n",
    "\n"
   ]
  },
  {
   "cell_type": "code",
   "execution_count": null,
   "metadata": {},
   "outputs": [],
   "source": []
  }
 ],
 "metadata": {
  "kernelspec": {
   "display_name": "Python 3",
   "language": "python",
   "name": "python3"
  },
  "language_info": {
   "codemirror_mode": {
    "name": "ipython",
    "version": 3
   },
   "file_extension": ".py",
   "mimetype": "text/x-python",
   "name": "python",
   "nbconvert_exporter": "python",
   "pygments_lexer": "ipython3",
   "version": "3.8.5"
  }
 },
 "nbformat": 4,
 "nbformat_minor": 4
}
